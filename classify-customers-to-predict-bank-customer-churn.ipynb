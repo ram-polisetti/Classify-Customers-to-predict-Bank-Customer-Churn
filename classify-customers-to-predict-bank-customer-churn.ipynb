{
 "cells": [
  {
   "cell_type": "markdown",
   "id": "0b1014a2",
   "metadata": {
    "papermill": {
     "duration": 0.009881,
     "end_time": "2024-07-29T21:46:51.160688",
     "exception": false,
     "start_time": "2024-07-29T21:46:51.150807",
     "status": "completed"
    },
    "tags": []
   },
   "source": [
    "## Data Collection and Importing Libraries"
   ]
  },
  {
   "cell_type": "code",
   "execution_count": 1,
   "id": "b3605d37",
   "metadata": {
    "execution": {
     "iopub.execute_input": "2024-07-29T21:46:51.181816Z",
     "iopub.status.busy": "2024-07-29T21:46:51.181411Z",
     "iopub.status.idle": "2024-07-29T21:46:54.062299Z",
     "shell.execute_reply": "2024-07-29T21:46:54.061402Z"
    },
    "papermill": {
     "duration": 2.893901,
     "end_time": "2024-07-29T21:46:54.064839",
     "exception": false,
     "start_time": "2024-07-29T21:46:51.170938",
     "status": "completed"
    },
    "tags": []
   },
   "outputs": [],
   "source": [
    "#importing libraries\n",
    "import numpy as np\n",
    "import pandas as pd\n",
    "import matplotlib.pyplot as plt\n",
    "import seaborn as sns\n",
    "\n",
    "from sklearn.model_selection import train_test_split, GridSearchCV\n",
    "from sklearn.preprocessing import StandardScaler, OneHotEncoder\n",
    "from sklearn.compose import ColumnTransformer\n",
    "from sklearn.pipeline import Pipeline\n",
    "from sklearn.ensemble import RandomForestClassifier\n",
    "from sklearn.metrics import accuracy_score, roc_auc_score, classification_report\n"
   ]
  },
  {
   "cell_type": "code",
   "execution_count": 2,
   "id": "6d8f59ba",
   "metadata": {
    "execution": {
     "iopub.execute_input": "2024-07-29T21:46:54.085585Z",
     "iopub.status.busy": "2024-07-29T21:46:54.084405Z",
     "iopub.status.idle": "2024-07-29T21:46:54.203311Z",
     "shell.execute_reply": "2024-07-29T21:46:54.202096Z"
    },
    "papermill": {
     "duration": 0.131859,
     "end_time": "2024-07-29T21:46:54.205930",
     "exception": false,
     "start_time": "2024-07-29T21:46:54.074071",
     "status": "completed"
    },
    "tags": []
   },
   "outputs": [],
   "source": [
    "# Load Datasets\n",
    "train = pd.read_csv('/kaggle/input/classify-customers-to-predict-bank-customer-churn/train.csv')\n",
    "test = pd.read_csv('/kaggle/input/classify-customers-to-predict-bank-customer-churn/test.csv')"
   ]
  },
  {
   "cell_type": "markdown",
   "id": "08f873ba",
   "metadata": {
    "papermill": {
     "duration": 0.009121,
     "end_time": "2024-07-29T21:46:54.224423",
     "exception": false,
     "start_time": "2024-07-29T21:46:54.215302",
     "status": "completed"
    },
    "tags": []
   },
   "source": [
    "# Descriptive Statistics"
   ]
  },
  {
   "cell_type": "code",
   "execution_count": 3,
   "id": "abf1dac2",
   "metadata": {
    "execution": {
     "iopub.execute_input": "2024-07-29T21:46:54.245937Z",
     "iopub.status.busy": "2024-07-29T21:46:54.245486Z",
     "iopub.status.idle": "2024-07-29T21:46:54.276679Z",
     "shell.execute_reply": "2024-07-29T21:46:54.275614Z"
    },
    "papermill": {
     "duration": 0.044664,
     "end_time": "2024-07-29T21:46:54.279196",
     "exception": false,
     "start_time": "2024-07-29T21:46:54.234532",
     "status": "completed"
    },
    "tags": []
   },
   "outputs": [
    {
     "data": {
      "text/html": [
       "<div>\n",
       "<style scoped>\n",
       "    .dataframe tbody tr th:only-of-type {\n",
       "        vertical-align: middle;\n",
       "    }\n",
       "\n",
       "    .dataframe tbody tr th {\n",
       "        vertical-align: top;\n",
       "    }\n",
       "\n",
       "    .dataframe thead th {\n",
       "        text-align: right;\n",
       "    }\n",
       "</style>\n",
       "<table border=\"1\" class=\"dataframe\">\n",
       "  <thead>\n",
       "    <tr style=\"text-align: right;\">\n",
       "      <th></th>\n",
       "      <th>id</th>\n",
       "      <th>CustomerId</th>\n",
       "      <th>Surname</th>\n",
       "      <th>CreditScore</th>\n",
       "      <th>Geography</th>\n",
       "      <th>Gender</th>\n",
       "      <th>Age</th>\n",
       "      <th>Tenure</th>\n",
       "      <th>Balance</th>\n",
       "      <th>NumOfProducts</th>\n",
       "      <th>HasCrCard</th>\n",
       "      <th>IsActiveMember</th>\n",
       "      <th>EstimatedSalary</th>\n",
       "      <th>Exited</th>\n",
       "    </tr>\n",
       "  </thead>\n",
       "  <tbody>\n",
       "    <tr>\n",
       "      <th>0</th>\n",
       "      <td>0</td>\n",
       "      <td>15778838.0</td>\n",
       "      <td>Mazzanti</td>\n",
       "      <td>582.0</td>\n",
       "      <td>Germany</td>\n",
       "      <td>Female</td>\n",
       "      <td>39.0</td>\n",
       "      <td>8.0</td>\n",
       "      <td>125534.51</td>\n",
       "      <td>1.0</td>\n",
       "      <td>1.0</td>\n",
       "      <td>0.0</td>\n",
       "      <td>131281.28</td>\n",
       "      <td>0.0</td>\n",
       "    </tr>\n",
       "    <tr>\n",
       "      <th>1</th>\n",
       "      <td>1</td>\n",
       "      <td>15788151.0</td>\n",
       "      <td>Burtch</td>\n",
       "      <td>744.0</td>\n",
       "      <td>France</td>\n",
       "      <td>Female</td>\n",
       "      <td>29.0</td>\n",
       "      <td>7.0</td>\n",
       "      <td>0.00</td>\n",
       "      <td>2.0</td>\n",
       "      <td>1.0</td>\n",
       "      <td>1.0</td>\n",
       "      <td>93829.17</td>\n",
       "      <td>0.0</td>\n",
       "    </tr>\n",
       "    <tr>\n",
       "      <th>2</th>\n",
       "      <td>2</td>\n",
       "      <td>15588928.0</td>\n",
       "      <td>Frolov</td>\n",
       "      <td>752.0</td>\n",
       "      <td>Spain</td>\n",
       "      <td>Male</td>\n",
       "      <td>32.0</td>\n",
       "      <td>3.0</td>\n",
       "      <td>0.00</td>\n",
       "      <td>2.0</td>\n",
       "      <td>0.0</td>\n",
       "      <td>0.0</td>\n",
       "      <td>125979.36</td>\n",
       "      <td>0.0</td>\n",
       "    </tr>\n",
       "    <tr>\n",
       "      <th>3</th>\n",
       "      <td>3</td>\n",
       "      <td>15694890.0</td>\n",
       "      <td>Lu</td>\n",
       "      <td>749.0</td>\n",
       "      <td>Germany</td>\n",
       "      <td>Female</td>\n",
       "      <td>54.0</td>\n",
       "      <td>7.0</td>\n",
       "      <td>82916.43</td>\n",
       "      <td>2.0</td>\n",
       "      <td>1.0</td>\n",
       "      <td>1.0</td>\n",
       "      <td>131736.23</td>\n",
       "      <td>0.0</td>\n",
       "    </tr>\n",
       "    <tr>\n",
       "      <th>4</th>\n",
       "      <td>4</td>\n",
       "      <td>15742841.0</td>\n",
       "      <td>Macleod</td>\n",
       "      <td>770.0</td>\n",
       "      <td>Spain</td>\n",
       "      <td>Male</td>\n",
       "      <td>43.0</td>\n",
       "      <td>2.0</td>\n",
       "      <td>0.00</td>\n",
       "      <td>2.0</td>\n",
       "      <td>1.0</td>\n",
       "      <td>0.0</td>\n",
       "      <td>157527.60</td>\n",
       "      <td>0.0</td>\n",
       "    </tr>\n",
       "  </tbody>\n",
       "</table>\n",
       "</div>"
      ],
      "text/plain": [
       "   id  CustomerId   Surname  CreditScore Geography  Gender   Age  Tenure  \\\n",
       "0   0  15778838.0  Mazzanti        582.0   Germany  Female  39.0     8.0   \n",
       "1   1  15788151.0    Burtch        744.0    France  Female  29.0     7.0   \n",
       "2   2  15588928.0    Frolov        752.0     Spain    Male  32.0     3.0   \n",
       "3   3  15694890.0        Lu        749.0   Germany  Female  54.0     7.0   \n",
       "4   4  15742841.0   Macleod        770.0     Spain    Male  43.0     2.0   \n",
       "\n",
       "     Balance  NumOfProducts  HasCrCard  IsActiveMember  EstimatedSalary  \\\n",
       "0  125534.51            1.0        1.0             0.0        131281.28   \n",
       "1       0.00            2.0        1.0             1.0         93829.17   \n",
       "2       0.00            2.0        0.0             0.0        125979.36   \n",
       "3   82916.43            2.0        1.0             1.0        131736.23   \n",
       "4       0.00            2.0        1.0             0.0        157527.60   \n",
       "\n",
       "   Exited  \n",
       "0     0.0  \n",
       "1     0.0  \n",
       "2     0.0  \n",
       "3     0.0  \n",
       "4     0.0  "
      ]
     },
     "execution_count": 3,
     "metadata": {},
     "output_type": "execute_result"
    }
   ],
   "source": [
    "train.head()"
   ]
  },
  {
   "cell_type": "code",
   "execution_count": 4,
   "id": "af23e4d8",
   "metadata": {
    "execution": {
     "iopub.execute_input": "2024-07-29T21:46:54.299921Z",
     "iopub.status.busy": "2024-07-29T21:46:54.299485Z",
     "iopub.status.idle": "2024-07-29T21:46:54.325914Z",
     "shell.execute_reply": "2024-07-29T21:46:54.324630Z"
    },
    "papermill": {
     "duration": 0.039666,
     "end_time": "2024-07-29T21:46:54.328433",
     "exception": false,
     "start_time": "2024-07-29T21:46:54.288767",
     "status": "completed"
    },
    "tags": []
   },
   "outputs": [
    {
     "name": "stdout",
     "output_type": "stream",
     "text": [
      "<class 'pandas.core.frame.DataFrame'>\n",
      "RangeIndex: 15000 entries, 0 to 14999\n",
      "Data columns (total 14 columns):\n",
      " #   Column           Non-Null Count  Dtype  \n",
      "---  ------           --------------  -----  \n",
      " 0   id               15000 non-null  int64  \n",
      " 1   CustomerId       15000 non-null  float64\n",
      " 2   Surname          15000 non-null  object \n",
      " 3   CreditScore      15000 non-null  float64\n",
      " 4   Geography        15000 non-null  object \n",
      " 5   Gender           15000 non-null  object \n",
      " 6   Age              15000 non-null  float64\n",
      " 7   Tenure           15000 non-null  float64\n",
      " 8   Balance          15000 non-null  float64\n",
      " 9   NumOfProducts    15000 non-null  float64\n",
      " 10  HasCrCard        15000 non-null  float64\n",
      " 11  IsActiveMember   15000 non-null  float64\n",
      " 12  EstimatedSalary  15000 non-null  float64\n",
      " 13  Exited           15000 non-null  float64\n",
      "dtypes: float64(10), int64(1), object(3)\n",
      "memory usage: 1.6+ MB\n"
     ]
    }
   ],
   "source": [
    "train.info()"
   ]
  },
  {
   "cell_type": "markdown",
   "id": "0760fa49",
   "metadata": {
    "papermill": {
     "duration": 0.009283,
     "end_time": "2024-07-29T21:46:54.347255",
     "exception": false,
     "start_time": "2024-07-29T21:46:54.337972",
     "status": "completed"
    },
    "tags": []
   },
   "source": [
    "The dataset have 14 columns with 15000 observations and 0 null columns."
   ]
  },
  {
   "cell_type": "code",
   "execution_count": 5,
   "id": "4bb48123",
   "metadata": {
    "execution": {
     "iopub.execute_input": "2024-07-29T21:46:54.368000Z",
     "iopub.status.busy": "2024-07-29T21:46:54.367523Z",
     "iopub.status.idle": "2024-07-29T21:46:54.411909Z",
     "shell.execute_reply": "2024-07-29T21:46:54.410784Z"
    },
    "papermill": {
     "duration": 0.057616,
     "end_time": "2024-07-29T21:46:54.414308",
     "exception": false,
     "start_time": "2024-07-29T21:46:54.356692",
     "status": "completed"
    },
    "tags": []
   },
   "outputs": [
    {
     "data": {
      "text/html": [
       "<div>\n",
       "<style scoped>\n",
       "    .dataframe tbody tr th:only-of-type {\n",
       "        vertical-align: middle;\n",
       "    }\n",
       "\n",
       "    .dataframe tbody tr th {\n",
       "        vertical-align: top;\n",
       "    }\n",
       "\n",
       "    .dataframe thead th {\n",
       "        text-align: right;\n",
       "    }\n",
       "</style>\n",
       "<table border=\"1\" class=\"dataframe\">\n",
       "  <thead>\n",
       "    <tr style=\"text-align: right;\">\n",
       "      <th></th>\n",
       "      <th>id</th>\n",
       "      <th>CustomerId</th>\n",
       "      <th>CreditScore</th>\n",
       "      <th>Age</th>\n",
       "      <th>Tenure</th>\n",
       "      <th>Balance</th>\n",
       "      <th>NumOfProducts</th>\n",
       "      <th>HasCrCard</th>\n",
       "      <th>IsActiveMember</th>\n",
       "      <th>EstimatedSalary</th>\n",
       "      <th>Exited</th>\n",
       "    </tr>\n",
       "  </thead>\n",
       "  <tbody>\n",
       "    <tr>\n",
       "      <th>count</th>\n",
       "      <td>15000.000000</td>\n",
       "      <td>1.500000e+04</td>\n",
       "      <td>15000.000000</td>\n",
       "      <td>15000.000000</td>\n",
       "      <td>15000.000000</td>\n",
       "      <td>15000.000000</td>\n",
       "      <td>15000.000000</td>\n",
       "      <td>15000.000000</td>\n",
       "      <td>15000.000000</td>\n",
       "      <td>15000.000000</td>\n",
       "      <td>15000.000000</td>\n",
       "    </tr>\n",
       "    <tr>\n",
       "      <th>mean</th>\n",
       "      <td>7499.500000</td>\n",
       "      <td>1.569155e+07</td>\n",
       "      <td>658.298667</td>\n",
       "      <td>37.870733</td>\n",
       "      <td>5.029200</td>\n",
       "      <td>42679.586385</td>\n",
       "      <td>1.592267</td>\n",
       "      <td>0.780333</td>\n",
       "      <td>0.495000</td>\n",
       "      <td>117987.539889</td>\n",
       "      <td>0.205933</td>\n",
       "    </tr>\n",
       "    <tr>\n",
       "      <th>std</th>\n",
       "      <td>4330.271354</td>\n",
       "      <td>1.931557e+05</td>\n",
       "      <td>72.588374</td>\n",
       "      <td>8.171304</td>\n",
       "      <td>2.784349</td>\n",
       "      <td>59632.693741</td>\n",
       "      <td>0.529439</td>\n",
       "      <td>0.414035</td>\n",
       "      <td>0.499992</td>\n",
       "      <td>45509.878819</td>\n",
       "      <td>0.404395</td>\n",
       "    </tr>\n",
       "    <tr>\n",
       "      <th>min</th>\n",
       "      <td>0.000000</td>\n",
       "      <td>1.563152e+05</td>\n",
       "      <td>431.000000</td>\n",
       "      <td>18.000000</td>\n",
       "      <td>0.000000</td>\n",
       "      <td>0.000000</td>\n",
       "      <td>1.000000</td>\n",
       "      <td>0.000000</td>\n",
       "      <td>0.000000</td>\n",
       "      <td>447.730000</td>\n",
       "      <td>0.000000</td>\n",
       "    </tr>\n",
       "    <tr>\n",
       "      <th>25%</th>\n",
       "      <td>3749.750000</td>\n",
       "      <td>1.563609e+07</td>\n",
       "      <td>603.000000</td>\n",
       "      <td>32.000000</td>\n",
       "      <td>3.000000</td>\n",
       "      <td>0.000000</td>\n",
       "      <td>1.000000</td>\n",
       "      <td>1.000000</td>\n",
       "      <td>0.000000</td>\n",
       "      <td>82985.052500</td>\n",
       "      <td>0.000000</td>\n",
       "    </tr>\n",
       "    <tr>\n",
       "      <th>50%</th>\n",
       "      <td>7499.500000</td>\n",
       "      <td>1.569080e+07</td>\n",
       "      <td>662.000000</td>\n",
       "      <td>37.000000</td>\n",
       "      <td>5.000000</td>\n",
       "      <td>0.000000</td>\n",
       "      <td>2.000000</td>\n",
       "      <td>1.000000</td>\n",
       "      <td>0.000000</td>\n",
       "      <td>123866.430000</td>\n",
       "      <td>0.000000</td>\n",
       "    </tr>\n",
       "    <tr>\n",
       "      <th>75%</th>\n",
       "      <td>11249.250000</td>\n",
       "      <td>1.575907e+07</td>\n",
       "      <td>708.000000</td>\n",
       "      <td>42.000000</td>\n",
       "      <td>7.000000</td>\n",
       "      <td>110148.580000</td>\n",
       "      <td>2.000000</td>\n",
       "      <td>1.000000</td>\n",
       "      <td>1.000000</td>\n",
       "      <td>156448.760000</td>\n",
       "      <td>0.000000</td>\n",
       "    </tr>\n",
       "    <tr>\n",
       "      <th>max</th>\n",
       "      <td>14999.000000</td>\n",
       "      <td>1.581566e+07</td>\n",
       "      <td>850.000000</td>\n",
       "      <td>74.000000</td>\n",
       "      <td>15.000000</td>\n",
       "      <td>208614.240000</td>\n",
       "      <td>4.000000</td>\n",
       "      <td>1.000000</td>\n",
       "      <td>1.000000</td>\n",
       "      <td>626144.090000</td>\n",
       "      <td>1.000000</td>\n",
       "    </tr>\n",
       "  </tbody>\n",
       "</table>\n",
       "</div>"
      ],
      "text/plain": [
       "                 id    CustomerId   CreditScore           Age        Tenure  \\\n",
       "count  15000.000000  1.500000e+04  15000.000000  15000.000000  15000.000000   \n",
       "mean    7499.500000  1.569155e+07    658.298667     37.870733      5.029200   \n",
       "std     4330.271354  1.931557e+05     72.588374      8.171304      2.784349   \n",
       "min        0.000000  1.563152e+05    431.000000     18.000000      0.000000   \n",
       "25%     3749.750000  1.563609e+07    603.000000     32.000000      3.000000   \n",
       "50%     7499.500000  1.569080e+07    662.000000     37.000000      5.000000   \n",
       "75%    11249.250000  1.575907e+07    708.000000     42.000000      7.000000   \n",
       "max    14999.000000  1.581566e+07    850.000000     74.000000     15.000000   \n",
       "\n",
       "             Balance  NumOfProducts     HasCrCard  IsActiveMember  \\\n",
       "count   15000.000000   15000.000000  15000.000000    15000.000000   \n",
       "mean    42679.586385       1.592267      0.780333        0.495000   \n",
       "std     59632.693741       0.529439      0.414035        0.499992   \n",
       "min         0.000000       1.000000      0.000000        0.000000   \n",
       "25%         0.000000       1.000000      1.000000        0.000000   \n",
       "50%         0.000000       2.000000      1.000000        0.000000   \n",
       "75%    110148.580000       2.000000      1.000000        1.000000   \n",
       "max    208614.240000       4.000000      1.000000        1.000000   \n",
       "\n",
       "       EstimatedSalary        Exited  \n",
       "count     15000.000000  15000.000000  \n",
       "mean     117987.539889      0.205933  \n",
       "std       45509.878819      0.404395  \n",
       "min         447.730000      0.000000  \n",
       "25%       82985.052500      0.000000  \n",
       "50%      123866.430000      0.000000  \n",
       "75%      156448.760000      0.000000  \n",
       "max      626144.090000      1.000000  "
      ]
     },
     "execution_count": 5,
     "metadata": {},
     "output_type": "execute_result"
    }
   ],
   "source": [
    "train.describe()"
   ]
  },
  {
   "cell_type": "markdown",
   "id": "7358cdf8",
   "metadata": {
    "papermill": {
     "duration": 0.009942,
     "end_time": "2024-07-29T21:46:54.434360",
     "exception": false,
     "start_time": "2024-07-29T21:46:54.424418",
     "status": "completed"
    },
    "tags": []
   },
   "source": [
    "- The average credit score is about `658`. with a standard deviation of `72.5`\n",
    "- The average age of customer is approximately  `39` years with a age range of `18` - `74` \n",
    "- The average tenure is or a customer is about `5` years and median is `0` with min tenure of 3 and maximun tenure of 15.\n",
    "- The mean balance is `42679` and standard deviation of `59632`. This tells that balance varies widely.\n",
    "- On average, customers use about `1.59` products, with most customers using either `1` or` 2` products.\n",
    "- Approximately `78%` of the customers have a credit card.\n",
    "- About `49.5%` of the customers are active members.\n",
    "- The average estimated salary is around `117,988` with a wide range from `447` to `626,144`\n",
    "- About `20.6%` of the customers have exited the bank."
   ]
  },
  {
   "cell_type": "code",
   "execution_count": 6,
   "id": "7945ec42",
   "metadata": {
    "execution": {
     "iopub.execute_input": "2024-07-29T21:46:54.455996Z",
     "iopub.status.busy": "2024-07-29T21:46:54.455611Z",
     "iopub.status.idle": "2024-07-29T21:46:54.466953Z",
     "shell.execute_reply": "2024-07-29T21:46:54.465909Z"
    },
    "papermill": {
     "duration": 0.024836,
     "end_time": "2024-07-29T21:46:54.469116",
     "exception": false,
     "start_time": "2024-07-29T21:46:54.444280",
     "status": "completed"
    },
    "tags": []
   },
   "outputs": [
    {
     "data": {
      "text/plain": [
       "id                 0\n",
       "CustomerId         0\n",
       "Surname            0\n",
       "CreditScore        0\n",
       "Geography          0\n",
       "Gender             0\n",
       "Age                0\n",
       "Tenure             0\n",
       "Balance            0\n",
       "NumOfProducts      0\n",
       "HasCrCard          0\n",
       "IsActiveMember     0\n",
       "EstimatedSalary    0\n",
       "Exited             0\n",
       "dtype: int64"
      ]
     },
     "execution_count": 6,
     "metadata": {},
     "output_type": "execute_result"
    }
   ],
   "source": [
    "train.isnull().sum()"
   ]
  },
  {
   "cell_type": "markdown",
   "id": "74b9ed74",
   "metadata": {
    "papermill": {
     "duration": 0.009562,
     "end_time": "2024-07-29T21:46:54.488534",
     "exception": false,
     "start_time": "2024-07-29T21:46:54.478972",
     "status": "completed"
    },
    "tags": []
   },
   "source": [
    "There are no null values in the columns."
   ]
  },
  {
   "cell_type": "markdown",
   "id": "8061bb7e",
   "metadata": {
    "papermill": {
     "duration": 0.009596,
     "end_time": "2024-07-29T21:46:54.508077",
     "exception": false,
     "start_time": "2024-07-29T21:46:54.498481",
     "status": "completed"
    },
    "tags": []
   },
   "source": [
    "# Understanding Data Distributions and Outlier Detection"
   ]
  },
  {
   "cell_type": "code",
   "execution_count": 7,
   "id": "0d708ac9",
   "metadata": {
    "execution": {
     "iopub.execute_input": "2024-07-29T21:46:54.529834Z",
     "iopub.status.busy": "2024-07-29T21:46:54.528825Z",
     "iopub.status.idle": "2024-07-29T21:46:54.734809Z",
     "shell.execute_reply": "2024-07-29T21:46:54.733727Z"
    },
    "papermill": {
     "duration": 0.2195,
     "end_time": "2024-07-29T21:46:54.737228",
     "exception": false,
     "start_time": "2024-07-29T21:46:54.517728",
     "status": "completed"
    },
    "tags": []
   },
   "outputs": [
    {
     "data": {
      "image/png": "[encoded data removed]",
      "text/plain": [
       "<Figure size 640x480 with 1 Axes>"
      ]
     },
     "metadata": {},
     "output_type": "display_data"
    }
   ],
   "source": [
    "sns.countplot(x='Exited', data=train)\n",
    "plt.show()"
   ]
  },
  {
   "cell_type": "code",
   "execution_count": 8,
   "id": "4039e353",
   "metadata": {
    "execution": {
     "iopub.execute_input": "2024-07-29T21:46:54.759501Z",
     "iopub.status.busy": "2024-07-29T21:46:54.759156Z",
     "iopub.status.idle": "2024-07-29T21:46:54.775878Z",
     "shell.execute_reply": "2024-07-29T21:46:54.774748Z"
    },
    "papermill": {
     "duration": 0.030714,
     "end_time": "2024-07-29T21:46:54.778181",
     "exception": false,
     "start_time": "2024-07-29T21:46:54.747467",
     "status": "completed"
    },
    "tags": []
   },
   "outputs": [
    {
     "name": "stdout",
     "output_type": "stream",
     "text": [
      "          id  CustomerId  CreditScore   Age  Tenure    Balance  NumOfProducts  \\\n",
      "0          0  15778838.0        582.0  39.0     8.0  125534.51            1.0   \n",
      "1          1  15788151.0        744.0  29.0     7.0       0.00            2.0   \n",
      "2          2  15588928.0        752.0  32.0     3.0       0.00            2.0   \n",
      "3          3  15694890.0        749.0  54.0     7.0   82916.43            2.0   \n",
      "4          4  15742841.0        770.0  43.0     2.0       0.00            2.0   \n",
      "...      ...         ...          ...   ...     ...        ...            ...   \n",
      "14995  14995  15797733.0        850.0  38.0     1.0       0.00            1.0   \n",
      "14996  14996  15723894.0        614.0  36.0     7.0  108664.85            2.0   \n",
      "14997  14997  15771742.0        619.0  31.0     4.0       0.00            2.0   \n",
      "14998  14998  15626485.0        513.0  48.0     4.0  126473.33            2.0   \n",
      "14999  14999  15583857.0        756.0  34.0     1.0       0.00            2.0   \n",
      "\n",
      "       HasCrCard  IsActiveMember  EstimatedSalary  Exited  \n",
      "0            1.0             0.0        131281.28     0.0  \n",
      "1            1.0             1.0         93829.17     0.0  \n",
      "2            0.0             0.0        125979.36     0.0  \n",
      "3            1.0             1.0        131736.23     0.0  \n",
      "4            1.0             0.0        157527.60     0.0  \n",
      "...          ...             ...              ...     ...  \n",
      "14995        1.0             0.0        115525.13     0.0  \n",
      "14996        0.0             0.0        120853.83     0.0  \n",
      "14997        1.0             1.0        163427.18     0.0  \n",
      "14998        1.0             1.0        147911.52     1.0  \n",
      "14999        0.0             1.0        110520.48     0.0  \n",
      "\n",
      "[15000 rows x 11 columns]\n"
     ]
    }
   ],
   "source": [
    "# Pairplot for numerical features\n",
    "numerical_df = train.select_dtypes(include=['float64', 'int64'])\n",
    "print(numerical_df)\n"
   ]
  },
  {
   "cell_type": "code",
   "execution_count": 9,
   "id": "0fe568c3",
   "metadata": {
    "execution": {
     "iopub.execute_input": "2024-07-29T21:46:54.800723Z",
     "iopub.status.busy": "2024-07-29T21:46:54.800329Z",
     "iopub.status.idle": "2024-07-29T21:46:54.812018Z",
     "shell.execute_reply": "2024-07-29T21:46:54.811093Z"
    },
    "papermill": {
     "duration": 0.025809,
     "end_time": "2024-07-29T21:46:54.814452",
     "exception": false,
     "start_time": "2024-07-29T21:46:54.788643",
     "status": "completed"
    },
    "tags": []
   },
   "outputs": [],
   "source": [
    "corr = numerical_df.corr()"
   ]
  },
  {
   "cell_type": "code",
   "execution_count": 10,
   "id": "270ac925",
   "metadata": {
    "execution": {
     "iopub.execute_input": "2024-07-29T21:46:54.837576Z",
     "iopub.status.busy": "2024-07-29T21:46:54.837096Z",
     "iopub.status.idle": "2024-07-29T21:46:55.479439Z",
     "shell.execute_reply": "2024-07-29T21:46:55.478374Z"
    },
    "papermill": {
     "duration": 0.657361,
     "end_time": "2024-07-29T21:46:55.482137",
     "exception": false,
     "start_time": "2024-07-29T21:46:54.824776",
     "status": "completed"
    },
    "tags": []
   },
   "outputs": [
    {
     "data": {
      "image/png": "[encoded data removed]",
      "text/plain": [
       "<Figure size 1000x700 with 2 Axes>"
      ]
     },
     "metadata": {},
     "output_type": "display_data"
    }
   ],
   "source": [
    "plt.figure(figsize=(10, 7))\n",
    "sns.heatmap(corr, annot=True)\n",
    "plt.show()"
   ]
  },
  {
   "cell_type": "code",
   "execution_count": 11,
   "id": "2235f8e2",
   "metadata": {
    "execution": {
     "iopub.execute_input": "2024-07-29T21:46:55.509105Z",
     "iopub.status.busy": "2024-07-29T21:46:55.508153Z",
     "iopub.status.idle": "2024-07-29T21:46:55.513834Z",
     "shell.execute_reply": "2024-07-29T21:46:55.512829Z"
    },
    "papermill": {
     "duration": 0.021144,
     "end_time": "2024-07-29T21:46:55.515901",
     "exception": false,
     "start_time": "2024-07-29T21:46:55.494757",
     "status": "completed"
    },
    "tags": []
   },
   "outputs": [],
   "source": [
    "# Convert 'Exited' to boolean\n",
    "train['Exited'] = train['Exited'].astype(bool)"
   ]
  },
  {
   "cell_type": "code",
   "execution_count": 12,
   "id": "59375131",
   "metadata": {
    "execution": {
     "iopub.execute_input": "2024-07-29T21:46:55.543384Z",
     "iopub.status.busy": "2024-07-29T21:46:55.542428Z",
     "iopub.status.idle": "2024-07-29T21:46:55.550763Z",
     "shell.execute_reply": "2024-07-29T21:46:55.549670Z"
    },
    "papermill": {
     "duration": 0.024687,
     "end_time": "2024-07-29T21:46:55.553028",
     "exception": false,
     "start_time": "2024-07-29T21:46:55.528341",
     "status": "completed"
    },
    "tags": []
   },
   "outputs": [],
   "source": [
    "# Remove 'id' and 'CustomerId'\n",
    "features_to_drop = ['id', 'CustomerId', 'Surname']\n",
    "X = train.drop(features_to_drop + ['Exited'], axis=1)\n",
    "y = train['Exited']"
   ]
  },
  {
   "cell_type": "code",
   "execution_count": 13,
   "id": "10c1fbde",
   "metadata": {
    "execution": {
     "iopub.execute_input": "2024-07-29T21:46:55.580224Z",
     "iopub.status.busy": "2024-07-29T21:46:55.579175Z",
     "iopub.status.idle": "2024-07-29T21:46:55.589609Z",
     "shell.execute_reply": "2024-07-29T21:46:55.588501Z"
    },
    "papermill": {
     "duration": 0.026689,
     "end_time": "2024-07-29T21:46:55.592205",
     "exception": false,
     "start_time": "2024-07-29T21:46:55.565516",
     "status": "completed"
    },
    "tags": []
   },
   "outputs": [],
   "source": [
    "# Split the data\n",
    "X_train, X_val, y_train, y_val = train_test_split(X, y, test_size=0.2, random_state=42)\n"
   ]
  },
  {
   "cell_type": "code",
   "execution_count": 14,
   "id": "c3514b04",
   "metadata": {
    "execution": {
     "iopub.execute_input": "2024-07-29T21:46:55.618477Z",
     "iopub.status.busy": "2024-07-29T21:46:55.618109Z",
     "iopub.status.idle": "2024-07-29T21:46:55.623424Z",
     "shell.execute_reply": "2024-07-29T21:46:55.622401Z"
    },
    "papermill": {
     "duration": 0.021043,
     "end_time": "2024-07-29T21:46:55.625573",
     "exception": false,
     "start_time": "2024-07-29T21:46:55.604530",
     "status": "completed"
    },
    "tags": []
   },
   "outputs": [],
   "source": [
    "# Define column types\n",
    "categorical_cols = ['Geography', 'Gender']\n",
    "numerical_cols = X.columns.drop(categorical_cols).tolist()"
   ]
  },
  {
   "cell_type": "code",
   "execution_count": 15,
   "id": "e71a7f88",
   "metadata": {
    "execution": {
     "iopub.execute_input": "2024-07-29T21:46:55.651916Z",
     "iopub.status.busy": "2024-07-29T21:46:55.651019Z",
     "iopub.status.idle": "2024-07-29T21:46:55.656133Z",
     "shell.execute_reply": "2024-07-29T21:46:55.655089Z"
    },
    "papermill": {
     "duration": 0.020517,
     "end_time": "2024-07-29T21:46:55.658256",
     "exception": false,
     "start_time": "2024-07-29T21:46:55.637739",
     "status": "completed"
    },
    "tags": []
   },
   "outputs": [],
   "source": [
    "# Define preprocessor\n",
    "preprocessor = ColumnTransformer(\n",
    "    transformers=[\n",
    "        ('num', StandardScaler(), numerical_cols),\n",
    "        ('cat', OneHotEncoder(handle_unknown='ignore'), categorical_cols)\n",
    "    ])"
   ]
  },
  {
   "cell_type": "code",
   "execution_count": 16,
   "id": "060ed821",
   "metadata": {
    "execution": {
     "iopub.execute_input": "2024-07-29T21:46:55.684547Z",
     "iopub.status.busy": "2024-07-29T21:46:55.683803Z",
     "iopub.status.idle": "2024-07-29T21:46:55.688879Z",
     "shell.execute_reply": "2024-07-29T21:46:55.687816Z"
    },
    "papermill": {
     "duration": 0.020889,
     "end_time": "2024-07-29T21:46:55.691327",
     "exception": false,
     "start_time": "2024-07-29T21:46:55.670438",
     "status": "completed"
    },
    "tags": []
   },
   "outputs": [],
   "source": [
    "# Create preprocessing and modeling pipeline\n",
    "pipeline = Pipeline(steps=[\n",
    "    ('preprocessor', preprocessor),\n",
    "    ('classifier', RandomForestClassifier(random_state=42))\n",
    "])"
   ]
  },
  {
   "cell_type": "code",
   "execution_count": 17,
   "id": "eac1d753",
   "metadata": {
    "execution": {
     "iopub.execute_input": "2024-07-29T21:46:55.717568Z",
     "iopub.status.busy": "2024-07-29T21:46:55.717178Z",
     "iopub.status.idle": "2024-07-29T21:46:55.722387Z",
     "shell.execute_reply": "2024-07-29T21:46:55.721343Z"
    },
    "papermill": {
     "duration": 0.02089,
     "end_time": "2024-07-29T21:46:55.724657",
     "exception": false,
     "start_time": "2024-07-29T21:46:55.703767",
     "status": "completed"
    },
    "tags": []
   },
   "outputs": [],
   "source": [
    "# Define hyperparameters for tuning\n",
    "param_grid = {\n",
    "    'classifier__n_estimators': [100, 200, 300],\n",
    "    'classifier__max_depth': [None, 5, 10],\n",
    "    'classifier__min_samples_split': [2, 5, 10]\n",
    "}\n"
   ]
  },
  {
   "cell_type": "code",
   "execution_count": 18,
   "id": "3075c0a3",
   "metadata": {
    "execution": {
     "iopub.execute_input": "2024-07-29T21:46:55.751197Z",
     "iopub.status.busy": "2024-07-29T21:46:55.750814Z",
     "iopub.status.idle": "2024-07-29T21:46:55.755686Z",
     "shell.execute_reply": "2024-07-29T21:46:55.754616Z"
    },
    "papermill": {
     "duration": 0.020778,
     "end_time": "2024-07-29T21:46:55.757895",
     "exception": false,
     "start_time": "2024-07-29T21:46:55.737117",
     "status": "completed"
    },
    "tags": []
   },
   "outputs": [],
   "source": [
    "# Set up GridSearchCV\n",
    "grid_search = GridSearchCV(pipeline, param_grid, cv=5, scoring='roc_auc', n_jobs=-1)\n"
   ]
  },
  {
   "cell_type": "code",
   "execution_count": 19,
   "id": "562a750c",
   "metadata": {
    "execution": {
     "iopub.execute_input": "2024-07-29T21:46:55.784447Z",
     "iopub.status.busy": "2024-07-29T21:46:55.784052Z",
     "iopub.status.idle": "2024-07-29T21:48:36.086407Z",
     "shell.execute_reply": "2024-07-29T21:48:36.085207Z"
    },
    "papermill": {
     "duration": 100.331434,
     "end_time": "2024-07-29T21:48:36.101824",
     "exception": false,
     "start_time": "2024-07-29T21:46:55.770390",
     "status": "completed"
    },
    "tags": []
   },
   "outputs": [
    {
     "data": {
      "text/html": [
       "<style>#sk-container-id-1 {color: black;background-color: white;}#sk-container-id-1 pre{padding: 0;}#sk-container-id-1 div.sk-toggleable {background-color: white;}#sk-container-id-1 label.sk-toggleable__label {cursor: pointer;display: block;width: 100%;margin-bottom: 0;padding: 0.3em;box-sizing: border-box;text-align: center;}#sk-container-id-1 label.sk-toggleable__label-arrow:before {content: \"▸\";float: left;margin-right: 0.25em;color: #696969;}#sk-container-id-1 label.sk-toggleable__label-arrow:hover:before {color: black;}#sk-container-id-1 div.sk-estimator:hover label.sk-toggleable__label-arrow:before {color: black;}#sk-container-id-1 div.sk-toggleable__content {max-height: 0;max-width: 0;overflow: hidden;text-align: left;background-color: #f0f8ff;}#sk-container-id-1 div.sk-toggleable__content pre {margin: 0.2em;color: black;border-radius: 0.25em;background-color: #f0f8ff;}#sk-container-id-1 input.sk-toggleable__control:checked~div.sk-toggleable__content {max-height: 200px;max-width: 100%;overflow: auto;}#sk-container-id-1 input.sk-toggleable__control:checked~label.sk-toggleable__label-arrow:before {content: \"▾\";}#sk-container-id-1 div.sk-estimator input.sk-toggleable__control:checked~label.sk-toggleable__label {background-color: #d4ebff;}#sk-container-id-1 div.sk-label input.sk-toggleable__control:checked~label.sk-toggleable__label {background-color: #d4ebff;}#sk-container-id-1 input.sk-hidden--visually {border: 0;clip: rect(1px 1px 1px 1px);clip: rect(1px, 1px, 1px, 1px);height: 1px;margin: -1px;overflow: hidden;padding: 0;position: absolute;width: 1px;}#sk-container-id-1 div.sk-estimator {font-family: monospace;background-color: #f0f8ff;border: 1px dotted black;border-radius: 0.25em;box-sizing: border-box;margin-bottom: 0.5em;}#sk-container-id-1 div.sk-estimator:hover {background-color: #d4ebff;}#sk-container-id-1 div.sk-parallel-item::after {content: \"\";width: 100%;border-bottom: 1px solid gray;flex-grow: 1;}#sk-container-id-1 div.sk-label:hover label.sk-toggleable__label {background-color: #d4ebff;}#sk-container-id-1 div.sk-serial::before {content: \"\";position: absolute;border-left: 1px solid gray;box-sizing: border-box;top: 0;bottom: 0;left: 50%;z-index: 0;}#sk-container-id-1 div.sk-serial {display: flex;flex-direction: column;align-items: center;background-color: white;padding-right: 0.2em;padding-left: 0.2em;position: relative;}#sk-container-id-1 div.sk-item {position: relative;z-index: 1;}#sk-container-id-1 div.sk-parallel {display: flex;align-items: stretch;justify-content: center;background-color: white;position: relative;}#sk-container-id-1 div.sk-item::before, #sk-container-id-1 div.sk-parallel-item::before {content: \"\";position: absolute;border-left: 1px solid gray;box-sizing: border-box;top: 0;bottom: 0;left: 50%;z-index: -1;}#sk-container-id-1 div.sk-parallel-item {display: flex;flex-direction: column;z-index: 1;position: relative;background-color: white;}#sk-container-id-1 div.sk-parallel-item:first-child::after {align-self: flex-end;width: 50%;}#sk-container-id-1 div.sk-parallel-item:last-child::after {align-self: flex-start;width: 50%;}#sk-container-id-1 div.sk-parallel-item:only-child::after {width: 0;}#sk-container-id-1 div.sk-dashed-wrapped {border: 1px dashed gray;margin: 0 0.4em 0.5em 0.4em;box-sizing: border-box;padding-bottom: 0.4em;background-color: white;}#sk-container-id-1 div.sk-label label {font-family: monospace;font-weight: bold;display: inline-block;line-height: 1.2em;}#sk-container-id-1 div.sk-label-container {text-align: center;}#sk-container-id-1 div.sk-container {/* jupyter's `normalize.less` sets `[hidden] { display: none; }` but bootstrap.min.css set `[hidden] { display: none !important; }` so we also need the `!important` here to be able to override the default hidden behavior on the sphinx rendered scikit-learn.org. See: https://github.com/scikit-learn/scikit-learn/issues/21755 */display: inline-block !important;position: relative;}#sk-container-id-1 div.sk-text-repr-fallback {display: none;}</style><div id=\"sk-container-id-1\" class=\"sk-top-container\"><div class=\"sk-text-repr-fallback\"><pre>GridSearchCV(cv=5,\n",
       "             estimator=Pipeline(steps=[(&#x27;preprocessor&#x27;,\n",
       "                                        ColumnTransformer(transformers=[(&#x27;num&#x27;,\n",
       "                                                                         StandardScaler(),\n",
       "                                                                         [&#x27;CreditScore&#x27;,\n",
       "                                                                          &#x27;Age&#x27;,\n",
       "                                                                          &#x27;Tenure&#x27;,\n",
       "                                                                          &#x27;Balance&#x27;,\n",
       "                                                                          &#x27;NumOfProducts&#x27;,\n",
       "                                                                          &#x27;HasCrCard&#x27;,\n",
       "                                                                          &#x27;IsActiveMember&#x27;,\n",
       "                                                                          &#x27;EstimatedSalary&#x27;]),\n",
       "                                                                        (&#x27;cat&#x27;,\n",
       "                                                                         OneHotEncoder(handle_unknown=&#x27;ignore&#x27;),\n",
       "                                                                         [&#x27;Geography&#x27;,\n",
       "                                                                          &#x27;Gender&#x27;])])),\n",
       "                                       (&#x27;classifier&#x27;,\n",
       "                                        RandomForestClassifier(random_state=42))]),\n",
       "             n_jobs=-1,\n",
       "             param_grid={&#x27;classifier__max_depth&#x27;: [None, 5, 10],\n",
       "                         &#x27;classifier__min_samples_split&#x27;: [2, 5, 10],\n",
       "                         &#x27;classifier__n_estimators&#x27;: [100, 200, 300]},\n",
       "             scoring=&#x27;roc_auc&#x27;)</pre><b>In a Jupyter environment, please rerun this cell to show the HTML representation or trust the notebook. <br />On GitHub, the HTML representation is unable to render, please try loading this page with nbviewer.org.</b></div><div class=\"sk-container\" hidden><div class=\"sk-item sk-dashed-wrapped\"><div class=\"sk-label-container\"><div class=\"sk-label sk-toggleable\"><input class=\"sk-toggleable__control sk-hidden--visually\" id=\"sk-estimator-id-1\" type=\"checkbox\" ><label for=\"sk-estimator-id-1\" class=\"sk-toggleable__label sk-toggleable__label-arrow\">GridSearchCV</label><div class=\"sk-toggleable__content\"><pre>GridSearchCV(cv=5,\n",
       "             estimator=Pipeline(steps=[(&#x27;preprocessor&#x27;,\n",
       "                                        ColumnTransformer(transformers=[(&#x27;num&#x27;,\n",
       "                                                                         StandardScaler(),\n",
       "                                                                         [&#x27;CreditScore&#x27;,\n",
       "                                                                          &#x27;Age&#x27;,\n",
       "                                                                          &#x27;Tenure&#x27;,\n",
       "                                                                          &#x27;Balance&#x27;,\n",
       "                                                                          &#x27;NumOfProducts&#x27;,\n",
       "                                                                          &#x27;HasCrCard&#x27;,\n",
       "                                                                          &#x27;IsActiveMember&#x27;,\n",
       "                                                                          &#x27;EstimatedSalary&#x27;]),\n",
       "                                                                        (&#x27;cat&#x27;,\n",
       "                                                                         OneHotEncoder(handle_unknown=&#x27;ignore&#x27;),\n",
       "                                                                         [&#x27;Geography&#x27;,\n",
       "                                                                          &#x27;Gender&#x27;])])),\n",
       "                                       (&#x27;classifier&#x27;,\n",
       "                                        RandomForestClassifier(random_state=42))]),\n",
       "             n_jobs=-1,\n",
       "             param_grid={&#x27;classifier__max_depth&#x27;: [None, 5, 10],\n",
       "                         &#x27;classifier__min_samples_split&#x27;: [2, 5, 10],\n",
       "                         &#x27;classifier__n_estimators&#x27;: [100, 200, 300]},\n",
       "             scoring=&#x27;roc_auc&#x27;)</pre></div></div></div><div class=\"sk-parallel\"><div class=\"sk-parallel-item\"><div class=\"sk-item\"><div class=\"sk-label-container\"><div class=\"sk-label sk-toggleable\"><input class=\"sk-toggleable__control sk-hidden--visually\" id=\"sk-estimator-id-2\" type=\"checkbox\" ><label for=\"sk-estimator-id-2\" class=\"sk-toggleable__label sk-toggleable__label-arrow\">estimator: Pipeline</label><div class=\"sk-toggleable__content\"><pre>Pipeline(steps=[(&#x27;preprocessor&#x27;,\n",
       "                 ColumnTransformer(transformers=[(&#x27;num&#x27;, StandardScaler(),\n",
       "                                                  [&#x27;CreditScore&#x27;, &#x27;Age&#x27;,\n",
       "                                                   &#x27;Tenure&#x27;, &#x27;Balance&#x27;,\n",
       "                                                   &#x27;NumOfProducts&#x27;, &#x27;HasCrCard&#x27;,\n",
       "                                                   &#x27;IsActiveMember&#x27;,\n",
       "                                                   &#x27;EstimatedSalary&#x27;]),\n",
       "                                                 (&#x27;cat&#x27;,\n",
       "                                                  OneHotEncoder(handle_unknown=&#x27;ignore&#x27;),\n",
       "                                                  [&#x27;Geography&#x27;, &#x27;Gender&#x27;])])),\n",
       "                (&#x27;classifier&#x27;, RandomForestClassifier(random_state=42))])</pre></div></div></div><div class=\"sk-serial\"><div class=\"sk-item\"><div class=\"sk-serial\"><div class=\"sk-item sk-dashed-wrapped\"><div class=\"sk-label-container\"><div class=\"sk-label sk-toggleable\"><input class=\"sk-toggleable__control sk-hidden--visually\" id=\"sk-estimator-id-3\" type=\"checkbox\" ><label for=\"sk-estimator-id-3\" class=\"sk-toggleable__label sk-toggleable__label-arrow\">preprocessor: ColumnTransformer</label><div class=\"sk-toggleable__content\"><pre>ColumnTransformer(transformers=[(&#x27;num&#x27;, StandardScaler(),\n",
       "                                 [&#x27;CreditScore&#x27;, &#x27;Age&#x27;, &#x27;Tenure&#x27;, &#x27;Balance&#x27;,\n",
       "                                  &#x27;NumOfProducts&#x27;, &#x27;HasCrCard&#x27;,\n",
       "                                  &#x27;IsActiveMember&#x27;, &#x27;EstimatedSalary&#x27;]),\n",
       "                                (&#x27;cat&#x27;, OneHotEncoder(handle_unknown=&#x27;ignore&#x27;),\n",
       "                                 [&#x27;Geography&#x27;, &#x27;Gender&#x27;])])</pre></div></div></div><div class=\"sk-parallel\"><div class=\"sk-parallel-item\"><div class=\"sk-item\"><div class=\"sk-label-container\"><div class=\"sk-label sk-toggleable\"><input class=\"sk-toggleable__control sk-hidden--visually\" id=\"sk-estimator-id-4\" type=\"checkbox\" ><label for=\"sk-estimator-id-4\" class=\"sk-toggleable__label sk-toggleable__label-arrow\">num</label><div class=\"sk-toggleable__content\"><pre>[&#x27;CreditScore&#x27;, &#x27;Age&#x27;, &#x27;Tenure&#x27;, &#x27;Balance&#x27;, &#x27;NumOfProducts&#x27;, &#x27;HasCrCard&#x27;, &#x27;IsActiveMember&#x27;, &#x27;EstimatedSalary&#x27;]</pre></div></div></div><div class=\"sk-serial\"><div class=\"sk-item\"><div class=\"sk-estimator sk-toggleable\"><input class=\"sk-toggleable__control sk-hidden--visually\" id=\"sk-estimator-id-5\" type=\"checkbox\" ><label for=\"sk-estimator-id-5\" class=\"sk-toggleable__label sk-toggleable__label-arrow\">StandardScaler</label><div class=\"sk-toggleable__content\"><pre>StandardScaler()</pre></div></div></div></div></div></div><div class=\"sk-parallel-item\"><div class=\"sk-item\"><div class=\"sk-label-container\"><div class=\"sk-label sk-toggleable\"><input class=\"sk-toggleable__control sk-hidden--visually\" id=\"sk-estimator-id-6\" type=\"checkbox\" ><label for=\"sk-estimator-id-6\" class=\"sk-toggleable__label sk-toggleable__label-arrow\">cat</label><div class=\"sk-toggleable__content\"><pre>[&#x27;Geography&#x27;, &#x27;Gender&#x27;]</pre></div></div></div><div class=\"sk-serial\"><div class=\"sk-item\"><div class=\"sk-estimator sk-toggleable\"><input class=\"sk-toggleable__control sk-hidden--visually\" id=\"sk-estimator-id-7\" type=\"checkbox\" ><label for=\"sk-estimator-id-7\" class=\"sk-toggleable__label sk-toggleable__label-arrow\">OneHotEncoder</label><div class=\"sk-toggleable__content\"><pre>OneHotEncoder(handle_unknown=&#x27;ignore&#x27;)</pre></div></div></div></div></div></div></div></div><div class=\"sk-item\"><div class=\"sk-estimator sk-toggleable\"><input class=\"sk-toggleable__control sk-hidden--visually\" id=\"sk-estimator-id-8\" type=\"checkbox\" ><label for=\"sk-estimator-id-8\" class=\"sk-toggleable__label sk-toggleable__label-arrow\">RandomForestClassifier</label><div class=\"sk-toggleable__content\"><pre>RandomForestClassifier(random_state=42)</pre></div></div></div></div></div></div></div></div></div></div></div></div>"
      ],
      "text/plain": [
       "GridSearchCV(cv=5,\n",
       "             estimator=Pipeline(steps=[('preprocessor',\n",
       "                                        ColumnTransformer(transformers=[('num',\n",
       "                                                                         StandardScaler(),\n",
       "                                                                         ['CreditScore',\n",
       "                                                                          'Age',\n",
       "                                                                          'Tenure',\n",
       "                                                                          'Balance',\n",
       "                                                                          'NumOfProducts',\n",
       "                                                                          'HasCrCard',\n",
       "                                                                          'IsActiveMember',\n",
       "                                                                          'EstimatedSalary']),\n",
       "                                                                        ('cat',\n",
       "                                                                         OneHotEncoder(handle_unknown='ignore'),\n",
       "                                                                         ['Geography',\n",
       "                                                                          'Gender'])])),\n",
       "                                       ('classifier',\n",
       "                                        RandomForestClassifier(random_state=42))]),\n",
       "             n_jobs=-1,\n",
       "             param_grid={'classifier__max_depth': [None, 5, 10],\n",
       "                         'classifier__min_samples_split': [2, 5, 10],\n",
       "                         'classifier__n_estimators': [100, 200, 300]},\n",
       "             scoring='roc_auc')"
      ]
     },
     "execution_count": 19,
     "metadata": {},
     "output_type": "execute_result"
    }
   ],
   "source": [
    "# Fit the model\n",
    "grid_search.fit(X_train, y_train)"
   ]
  },
  {
   "cell_type": "code",
   "execution_count": 20,
   "id": "aa1c2cf5",
   "metadata": {
    "execution": {
     "iopub.execute_input": "2024-07-29T21:48:36.130375Z",
     "iopub.status.busy": "2024-07-29T21:48:36.129398Z",
     "iopub.status.idle": "2024-07-29T21:48:36.410109Z",
     "shell.execute_reply": "2024-07-29T21:48:36.408947Z"
    },
    "papermill": {
     "duration": 0.298006,
     "end_time": "2024-07-29T21:48:36.412977",
     "exception": false,
     "start_time": "2024-07-29T21:48:36.114971",
     "status": "completed"
    },
    "tags": []
   },
   "outputs": [],
   "source": [
    "# Make predictions on validation set\n",
    "y_pred = grid_search.predict(X_val)\n",
    "y_pred_proba = grid_search.predict_proba(X_val)[:, 1]"
   ]
  },
  {
   "cell_type": "code",
   "execution_count": 21,
   "id": "46dbac33",
   "metadata": {
    "execution": {
     "iopub.execute_input": "2024-07-29T21:48:36.441157Z",
     "iopub.status.busy": "2024-07-29T21:48:36.440398Z",
     "iopub.status.idle": "2024-07-29T21:48:36.447757Z",
     "shell.execute_reply": "2024-07-29T21:48:36.446634Z"
    },
    "papermill": {
     "duration": 0.024205,
     "end_time": "2024-07-29T21:48:36.450445",
     "exception": false,
     "start_time": "2024-07-29T21:48:36.426240",
     "status": "completed"
    },
    "tags": []
   },
   "outputs": [
    {
     "data": {
      "text/plain": [
       "array([0.02098139, 0.22174896, 0.14058737, ..., 0.10785057, 0.23116253,\n",
       "       0.02255641])"
      ]
     },
     "execution_count": 21,
     "metadata": {},
     "output_type": "execute_result"
    }
   ],
   "source": [
    "y_pred_proba"
   ]
  },
  {
   "cell_type": "code",
   "execution_count": 22,
   "id": "a2ff822b",
   "metadata": {
    "execution": {
     "iopub.execute_input": "2024-07-29T21:48:36.478177Z",
     "iopub.status.busy": "2024-07-29T21:48:36.477804Z",
     "iopub.status.idle": "2024-07-29T21:48:36.500867Z",
     "shell.execute_reply": "2024-07-29T21:48:36.499774Z"
    },
    "papermill": {
     "duration": 0.039685,
     "end_time": "2024-07-29T21:48:36.503230",
     "exception": false,
     "start_time": "2024-07-29T21:48:36.463545",
     "status": "completed"
    },
    "tags": []
   },
   "outputs": [
    {
     "name": "stdout",
     "output_type": "stream",
     "text": [
      "Best parameters: {'classifier__max_depth': 10, 'classifier__min_samples_split': 2, 'classifier__n_estimators': 300}\n",
      "Validation Accuracy: 0.8943333333333333\n",
      "Validation ROC AUC: 0.933782934662356\n",
      "\n",
      "Classification Report:\n",
      "              precision    recall  f1-score   support\n",
      "\n",
      "       False       0.91      0.97      0.94      2372\n",
      "        True       0.83      0.62      0.71       628\n",
      "\n",
      "    accuracy                           0.89      3000\n",
      "   macro avg       0.87      0.79      0.82      3000\n",
      "weighted avg       0.89      0.89      0.89      3000\n",
      "\n"
     ]
    }
   ],
   "source": [
    "# Print results\n",
    "print(\"Best parameters:\", grid_search.best_params_)\n",
    "print(\"Validation Accuracy:\", accuracy_score(y_val, y_pred))\n",
    "print(\"Validation ROC AUC:\", roc_auc_score(y_val, y_pred_proba))\n",
    "print(\"\\nClassification Report:\")\n",
    "print(classification_report(y_val, y_pred))"
   ]
  },
  {
   "cell_type": "code",
   "execution_count": 23,
   "id": "0c048bc2",
   "metadata": {
    "execution": {
     "iopub.execute_input": "2024-07-29T21:48:36.530928Z",
     "iopub.status.busy": "2024-07-29T21:48:36.530500Z",
     "iopub.status.idle": "2024-07-29T21:48:36.552257Z",
     "shell.execute_reply": "2024-07-29T21:48:36.551217Z"
    },
    "papermill": {
     "duration": 0.038447,
     "end_time": "2024-07-29T21:48:36.554696",
     "exception": false,
     "start_time": "2024-07-29T21:48:36.516249",
     "status": "completed"
    },
    "tags": []
   },
   "outputs": [],
   "source": [
    "# Feature importance\n",
    "feature_importance = grid_search.best_estimator_.named_steps['classifier'].feature_importances_\n",
    "feature_names = (numerical_cols + \n",
    "                 grid_search.best_estimator_.named_steps['preprocessor']\n",
    "                 .named_transformers_['cat'].get_feature_names_out(categorical_cols).tolist())\n"
   ]
  },
  {
   "cell_type": "code",
   "execution_count": 24,
   "id": "f823a696",
   "metadata": {
    "execution": {
     "iopub.execute_input": "2024-07-29T21:48:36.582620Z",
     "iopub.status.busy": "2024-07-29T21:48:36.582206Z",
     "iopub.status.idle": "2024-07-29T21:48:36.587515Z",
     "shell.execute_reply": "2024-07-29T21:48:36.586625Z"
    },
    "papermill": {
     "duration": 0.021795,
     "end_time": "2024-07-29T21:48:36.589616",
     "exception": false,
     "start_time": "2024-07-29T21:48:36.567821",
     "status": "completed"
    },
    "tags": []
   },
   "outputs": [],
   "source": [
    "# Sort features by importance\n",
    "sorted_idx = np.argsort(feature_importance)\n",
    "sorted_features = np.array(feature_names)[sorted_idx]\n",
    "sorted_importance = feature_importance[sorted_idx]"
   ]
  },
  {
   "cell_type": "code",
   "execution_count": 25,
   "id": "c05a075c",
   "metadata": {
    "execution": {
     "iopub.execute_input": "2024-07-29T21:48:36.617364Z",
     "iopub.status.busy": "2024-07-29T21:48:36.616984Z",
     "iopub.status.idle": "2024-07-29T21:48:37.001948Z",
     "shell.execute_reply": "2024-07-29T21:48:37.000636Z"
    },
    "papermill": {
     "duration": 0.401756,
     "end_time": "2024-07-29T21:48:37.004352",
     "exception": false,
     "start_time": "2024-07-29T21:48:36.602596",
     "status": "completed"
    },
    "tags": []
   },
   "outputs": [
    {
     "data": {
      "image/png": "[encoded data removed]",
      "text/plain": [
       "<Figure size 1000x600 with 1 Axes>"
      ]
     },
     "metadata": {},
     "output_type": "display_data"
    }
   ],
   "source": [
    "# Plot feature importance using matplotlib\n",
    "plt.figure(figsize=(10, 6))\n",
    "y_pos = np.arange(len(sorted_features))\n",
    "plt.barh(y_pos, sorted_importance, align='center')\n",
    "plt.yticks(y_pos, sorted_features)\n",
    "plt.xlabel('Feature Importance')\n",
    "plt.title('Feature Importance in Bank Churn Prediction')\n",
    "plt.tight_layout()\n",
    "plt.show()"
   ]
  },
  {
   "cell_type": "code",
   "execution_count": 26,
   "id": "ffc644f1",
   "metadata": {
    "execution": {
     "iopub.execute_input": "2024-07-29T21:48:37.036211Z",
     "iopub.status.busy": "2024-07-29T21:48:37.035402Z",
     "iopub.status.idle": "2024-07-29T21:48:37.062888Z",
     "shell.execute_reply": "2024-07-29T21:48:37.061809Z"
    },
    "papermill": {
     "duration": 0.045254,
     "end_time": "2024-07-29T21:48:37.065328",
     "exception": false,
     "start_time": "2024-07-29T21:48:37.020074",
     "status": "completed"
    },
    "tags": []
   },
   "outputs": [],
   "source": [
    "test = pd.read_csv('/kaggle/input/classify-customers-to-predict-bank-customer-churn/test.csv')"
   ]
  },
  {
   "cell_type": "code",
   "execution_count": 27,
   "id": "469241e6",
   "metadata": {
    "execution": {
     "iopub.execute_input": "2024-07-29T21:48:37.156239Z",
     "iopub.status.busy": "2024-07-29T21:48:37.155195Z",
     "iopub.status.idle": "2024-07-29T21:48:37.175237Z",
     "shell.execute_reply": "2024-07-29T21:48:37.173947Z"
    },
    "papermill": {
     "duration": 0.037447,
     "end_time": "2024-07-29T21:48:37.177509",
     "exception": false,
     "start_time": "2024-07-29T21:48:37.140062",
     "status": "completed"
    },
    "tags": []
   },
   "outputs": [
    {
     "data": {
      "text/html": [
       "<div>\n",
       "<style scoped>\n",
       "    .dataframe tbody tr th:only-of-type {\n",
       "        vertical-align: middle;\n",
       "    }\n",
       "\n",
       "    .dataframe tbody tr th {\n",
       "        vertical-align: top;\n",
       "    }\n",
       "\n",
       "    .dataframe thead th {\n",
       "        text-align: right;\n",
       "    }\n",
       "</style>\n",
       "<table border=\"1\" class=\"dataframe\">\n",
       "  <thead>\n",
       "    <tr style=\"text-align: right;\">\n",
       "      <th></th>\n",
       "      <th>id</th>\n",
       "      <th>CustomerId</th>\n",
       "      <th>Surname</th>\n",
       "      <th>CreditScore</th>\n",
       "      <th>Geography</th>\n",
       "      <th>Gender</th>\n",
       "      <th>Age</th>\n",
       "      <th>Tenure</th>\n",
       "      <th>Balance</th>\n",
       "      <th>NumOfProducts</th>\n",
       "      <th>HasCrCard</th>\n",
       "      <th>IsActiveMember</th>\n",
       "      <th>EstimatedSalary</th>\n",
       "    </tr>\n",
       "  </thead>\n",
       "  <tbody>\n",
       "    <tr>\n",
       "      <th>0</th>\n",
       "      <td>15000</td>\n",
       "      <td>15664005.0</td>\n",
       "      <td>Walker</td>\n",
       "      <td>686.0</td>\n",
       "      <td>France</td>\n",
       "      <td>Male</td>\n",
       "      <td>32.0</td>\n",
       "      <td>8.0</td>\n",
       "      <td>0.00</td>\n",
       "      <td>2.0</td>\n",
       "      <td>0.0</td>\n",
       "      <td>0.0</td>\n",
       "      <td>137537.19</td>\n",
       "    </tr>\n",
       "    <tr>\n",
       "      <th>1</th>\n",
       "      <td>15001</td>\n",
       "      <td>15711015.0</td>\n",
       "      <td>Chu</td>\n",
       "      <td>669.0</td>\n",
       "      <td>Germany</td>\n",
       "      <td>Male</td>\n",
       "      <td>36.0</td>\n",
       "      <td>10.0</td>\n",
       "      <td>152880.97</td>\n",
       "      <td>1.0</td>\n",
       "      <td>1.0</td>\n",
       "      <td>1.0</td>\n",
       "      <td>183358.21</td>\n",
       "    </tr>\n",
       "    <tr>\n",
       "      <th>2</th>\n",
       "      <td>15002</td>\n",
       "      <td>15579994.0</td>\n",
       "      <td>H?</td>\n",
       "      <td>613.0</td>\n",
       "      <td>Germany</td>\n",
       "      <td>Female</td>\n",
       "      <td>43.0</td>\n",
       "      <td>1.0</td>\n",
       "      <td>132730.17</td>\n",
       "      <td>1.0</td>\n",
       "      <td>1.0</td>\n",
       "      <td>0.0</td>\n",
       "      <td>121894.31</td>\n",
       "    </tr>\n",
       "    <tr>\n",
       "      <th>3</th>\n",
       "      <td>15003</td>\n",
       "      <td>15688865.0</td>\n",
       "      <td>T'ien</td>\n",
       "      <td>588.0</td>\n",
       "      <td>France</td>\n",
       "      <td>Male</td>\n",
       "      <td>47.0</td>\n",
       "      <td>7.0</td>\n",
       "      <td>0.00</td>\n",
       "      <td>2.0</td>\n",
       "      <td>1.0</td>\n",
       "      <td>0.0</td>\n",
       "      <td>163666.85</td>\n",
       "    </tr>\n",
       "    <tr>\n",
       "      <th>4</th>\n",
       "      <td>15004</td>\n",
       "      <td>15749679.0</td>\n",
       "      <td>Tseng</td>\n",
       "      <td>652.0</td>\n",
       "      <td>Spain</td>\n",
       "      <td>Male</td>\n",
       "      <td>40.0</td>\n",
       "      <td>2.0</td>\n",
       "      <td>0.00</td>\n",
       "      <td>2.0</td>\n",
       "      <td>1.0</td>\n",
       "      <td>0.0</td>\n",
       "      <td>98894.64</td>\n",
       "    </tr>\n",
       "  </tbody>\n",
       "</table>\n",
       "</div>"
      ],
      "text/plain": [
       "      id  CustomerId Surname  CreditScore Geography  Gender   Age  Tenure  \\\n",
       "0  15000  15664005.0  Walker        686.0    France    Male  32.0     8.0   \n",
       "1  15001  15711015.0     Chu        669.0   Germany    Male  36.0    10.0   \n",
       "2  15002  15579994.0      H?        613.0   Germany  Female  43.0     1.0   \n",
       "3  15003  15688865.0   T'ien        588.0    France    Male  47.0     7.0   \n",
       "4  15004  15749679.0   Tseng        652.0     Spain    Male  40.0     2.0   \n",
       "\n",
       "     Balance  NumOfProducts  HasCrCard  IsActiveMember  EstimatedSalary  \n",
       "0       0.00            2.0        0.0             0.0        137537.19  \n",
       "1  152880.97            1.0        1.0             1.0        183358.21  \n",
       "2  132730.17            1.0        1.0             0.0        121894.31  \n",
       "3       0.00            2.0        1.0             0.0        163666.85  \n",
       "4       0.00            2.0        1.0             0.0         98894.64  "
      ]
     },
     "execution_count": 27,
     "metadata": {},
     "output_type": "execute_result"
    }
   ],
   "source": [
    "test.head()"
   ]
  },
  {
   "cell_type": "code",
   "execution_count": 28,
   "id": "4585758d",
   "metadata": {
    "execution": {
     "iopub.execute_input": "2024-07-29T21:48:37.207937Z",
     "iopub.status.busy": "2024-07-29T21:48:37.207515Z",
     "iopub.status.idle": "2024-07-29T21:48:39.116323Z",
     "shell.execute_reply": "2024-07-29T21:48:39.115206Z"
    },
    "papermill": {
     "duration": 1.926831,
     "end_time": "2024-07-29T21:48:39.118771",
     "exception": false,
     "start_time": "2024-07-29T21:48:37.191940",
     "status": "completed"
    },
    "tags": []
   },
   "outputs": [
    {
     "data": {
      "text/html": [
       "<style>#sk-container-id-2 {color: black;background-color: white;}#sk-container-id-2 pre{padding: 0;}#sk-container-id-2 div.sk-toggleable {background-color: white;}#sk-container-id-2 label.sk-toggleable__label {cursor: pointer;display: block;width: 100%;margin-bottom: 0;padding: 0.3em;box-sizing: border-box;text-align: center;}#sk-container-id-2 label.sk-toggleable__label-arrow:before {content: \"▸\";float: left;margin-right: 0.25em;color: #696969;}#sk-container-id-2 label.sk-toggleable__label-arrow:hover:before {color: black;}#sk-container-id-2 div.sk-estimator:hover label.sk-toggleable__label-arrow:before {color: black;}#sk-container-id-2 div.sk-toggleable__content {max-height: 0;max-width: 0;overflow: hidden;text-align: left;background-color: #f0f8ff;}#sk-container-id-2 div.sk-toggleable__content pre {margin: 0.2em;color: black;border-radius: 0.25em;background-color: #f0f8ff;}#sk-container-id-2 input.sk-toggleable__control:checked~div.sk-toggleable__content {max-height: 200px;max-width: 100%;overflow: auto;}#sk-container-id-2 input.sk-toggleable__control:checked~label.sk-toggleable__label-arrow:before {content: \"▾\";}#sk-container-id-2 div.sk-estimator input.sk-toggleable__control:checked~label.sk-toggleable__label {background-color: #d4ebff;}#sk-container-id-2 div.sk-label input.sk-toggleable__control:checked~label.sk-toggleable__label {background-color: #d4ebff;}#sk-container-id-2 input.sk-hidden--visually {border: 0;clip: rect(1px 1px 1px 1px);clip: rect(1px, 1px, 1px, 1px);height: 1px;margin: -1px;overflow: hidden;padding: 0;position: absolute;width: 1px;}#sk-container-id-2 div.sk-estimator {font-family: monospace;background-color: #f0f8ff;border: 1px dotted black;border-radius: 0.25em;box-sizing: border-box;margin-bottom: 0.5em;}#sk-container-id-2 div.sk-estimator:hover {background-color: #d4ebff;}#sk-container-id-2 div.sk-parallel-item::after {content: \"\";width: 100%;border-bottom: 1px solid gray;flex-grow: 1;}#sk-container-id-2 div.sk-label:hover label.sk-toggleable__label {background-color: #d4ebff;}#sk-container-id-2 div.sk-serial::before {content: \"\";position: absolute;border-left: 1px solid gray;box-sizing: border-box;top: 0;bottom: 0;left: 50%;z-index: 0;}#sk-container-id-2 div.sk-serial {display: flex;flex-direction: column;align-items: center;background-color: white;padding-right: 0.2em;padding-left: 0.2em;position: relative;}#sk-container-id-2 div.sk-item {position: relative;z-index: 1;}#sk-container-id-2 div.sk-parallel {display: flex;align-items: stretch;justify-content: center;background-color: white;position: relative;}#sk-container-id-2 div.sk-item::before, #sk-container-id-2 div.sk-parallel-item::before {content: \"\";position: absolute;border-left: 1px solid gray;box-sizing: border-box;top: 0;bottom: 0;left: 50%;z-index: -1;}#sk-container-id-2 div.sk-parallel-item {display: flex;flex-direction: column;z-index: 1;position: relative;background-color: white;}#sk-container-id-2 div.sk-parallel-item:first-child::after {align-self: flex-end;width: 50%;}#sk-container-id-2 div.sk-parallel-item:last-child::after {align-self: flex-start;width: 50%;}#sk-container-id-2 div.sk-parallel-item:only-child::after {width: 0;}#sk-container-id-2 div.sk-dashed-wrapped {border: 1px dashed gray;margin: 0 0.4em 0.5em 0.4em;box-sizing: border-box;padding-bottom: 0.4em;background-color: white;}#sk-container-id-2 div.sk-label label {font-family: monospace;font-weight: bold;display: inline-block;line-height: 1.2em;}#sk-container-id-2 div.sk-label-container {text-align: center;}#sk-container-id-2 div.sk-container {/* jupyter's `normalize.less` sets `[hidden] { display: none; }` but bootstrap.min.css set `[hidden] { display: none !important; }` so we also need the `!important` here to be able to override the default hidden behavior on the sphinx rendered scikit-learn.org. See: https://github.com/scikit-learn/scikit-learn/issues/21755 */display: inline-block !important;position: relative;}#sk-container-id-2 div.sk-text-repr-fallback {display: none;}</style><div id=\"sk-container-id-2\" class=\"sk-top-container\"><div class=\"sk-text-repr-fallback\"><pre>Pipeline(steps=[(&#x27;preprocessor&#x27;,\n",
       "                 ColumnTransformer(transformers=[(&#x27;num&#x27;, StandardScaler(),\n",
       "                                                  [&#x27;CreditScore&#x27;, &#x27;Age&#x27;,\n",
       "                                                   &#x27;Tenure&#x27;, &#x27;Balance&#x27;,\n",
       "                                                   &#x27;NumOfProducts&#x27;, &#x27;HasCrCard&#x27;,\n",
       "                                                   &#x27;IsActiveMember&#x27;,\n",
       "                                                   &#x27;EstimatedSalary&#x27;]),\n",
       "                                                 (&#x27;cat&#x27;,\n",
       "                                                  OneHotEncoder(handle_unknown=&#x27;ignore&#x27;),\n",
       "                                                  [&#x27;Geography&#x27;, &#x27;Gender&#x27;])])),\n",
       "                (&#x27;classifier&#x27;, RandomForestClassifier(random_state=42))])</pre><b>In a Jupyter environment, please rerun this cell to show the HTML representation or trust the notebook. <br />On GitHub, the HTML representation is unable to render, please try loading this page with nbviewer.org.</b></div><div class=\"sk-container\" hidden><div class=\"sk-item sk-dashed-wrapped\"><div class=\"sk-label-container\"><div class=\"sk-label sk-toggleable\"><input class=\"sk-toggleable__control sk-hidden--visually\" id=\"sk-estimator-id-9\" type=\"checkbox\" ><label for=\"sk-estimator-id-9\" class=\"sk-toggleable__label sk-toggleable__label-arrow\">Pipeline</label><div class=\"sk-toggleable__content\"><pre>Pipeline(steps=[(&#x27;preprocessor&#x27;,\n",
       "                 ColumnTransformer(transformers=[(&#x27;num&#x27;, StandardScaler(),\n",
       "                                                  [&#x27;CreditScore&#x27;, &#x27;Age&#x27;,\n",
       "                                                   &#x27;Tenure&#x27;, &#x27;Balance&#x27;,\n",
       "                                                   &#x27;NumOfProducts&#x27;, &#x27;HasCrCard&#x27;,\n",
       "                                                   &#x27;IsActiveMember&#x27;,\n",
       "                                                   &#x27;EstimatedSalary&#x27;]),\n",
       "                                                 (&#x27;cat&#x27;,\n",
       "                                                  OneHotEncoder(handle_unknown=&#x27;ignore&#x27;),\n",
       "                                                  [&#x27;Geography&#x27;, &#x27;Gender&#x27;])])),\n",
       "                (&#x27;classifier&#x27;, RandomForestClassifier(random_state=42))])</pre></div></div></div><div class=\"sk-serial\"><div class=\"sk-item sk-dashed-wrapped\"><div class=\"sk-label-container\"><div class=\"sk-label sk-toggleable\"><input class=\"sk-toggleable__control sk-hidden--visually\" id=\"sk-estimator-id-10\" type=\"checkbox\" ><label for=\"sk-estimator-id-10\" class=\"sk-toggleable__label sk-toggleable__label-arrow\">preprocessor: ColumnTransformer</label><div class=\"sk-toggleable__content\"><pre>ColumnTransformer(transformers=[(&#x27;num&#x27;, StandardScaler(),\n",
       "                                 [&#x27;CreditScore&#x27;, &#x27;Age&#x27;, &#x27;Tenure&#x27;, &#x27;Balance&#x27;,\n",
       "                                  &#x27;NumOfProducts&#x27;, &#x27;HasCrCard&#x27;,\n",
       "                                  &#x27;IsActiveMember&#x27;, &#x27;EstimatedSalary&#x27;]),\n",
       "                                (&#x27;cat&#x27;, OneHotEncoder(handle_unknown=&#x27;ignore&#x27;),\n",
       "                                 [&#x27;Geography&#x27;, &#x27;Gender&#x27;])])</pre></div></div></div><div class=\"sk-parallel\"><div class=\"sk-parallel-item\"><div class=\"sk-item\"><div class=\"sk-label-container\"><div class=\"sk-label sk-toggleable\"><input class=\"sk-toggleable__control sk-hidden--visually\" id=\"sk-estimator-id-11\" type=\"checkbox\" ><label for=\"sk-estimator-id-11\" class=\"sk-toggleable__label sk-toggleable__label-arrow\">num</label><div class=\"sk-toggleable__content\"><pre>[&#x27;CreditScore&#x27;, &#x27;Age&#x27;, &#x27;Tenure&#x27;, &#x27;Balance&#x27;, &#x27;NumOfProducts&#x27;, &#x27;HasCrCard&#x27;, &#x27;IsActiveMember&#x27;, &#x27;EstimatedSalary&#x27;]</pre></div></div></div><div class=\"sk-serial\"><div class=\"sk-item\"><div class=\"sk-estimator sk-toggleable\"><input class=\"sk-toggleable__control sk-hidden--visually\" id=\"sk-estimator-id-12\" type=\"checkbox\" ><label for=\"sk-estimator-id-12\" class=\"sk-toggleable__label sk-toggleable__label-arrow\">StandardScaler</label><div class=\"sk-toggleable__content\"><pre>StandardScaler()</pre></div></div></div></div></div></div><div class=\"sk-parallel-item\"><div class=\"sk-item\"><div class=\"sk-label-container\"><div class=\"sk-label sk-toggleable\"><input class=\"sk-toggleable__control sk-hidden--visually\" id=\"sk-estimator-id-13\" type=\"checkbox\" ><label for=\"sk-estimator-id-13\" class=\"sk-toggleable__label sk-toggleable__label-arrow\">cat</label><div class=\"sk-toggleable__content\"><pre>[&#x27;Geography&#x27;, &#x27;Gender&#x27;]</pre></div></div></div><div class=\"sk-serial\"><div class=\"sk-item\"><div class=\"sk-estimator sk-toggleable\"><input class=\"sk-toggleable__control sk-hidden--visually\" id=\"sk-estimator-id-14\" type=\"checkbox\" ><label for=\"sk-estimator-id-14\" class=\"sk-toggleable__label sk-toggleable__label-arrow\">OneHotEncoder</label><div class=\"sk-toggleable__content\"><pre>OneHotEncoder(handle_unknown=&#x27;ignore&#x27;)</pre></div></div></div></div></div></div></div></div><div class=\"sk-item\"><div class=\"sk-estimator sk-toggleable\"><input class=\"sk-toggleable__control sk-hidden--visually\" id=\"sk-estimator-id-15\" type=\"checkbox\" ><label for=\"sk-estimator-id-15\" class=\"sk-toggleable__label sk-toggleable__label-arrow\">RandomForestClassifier</label><div class=\"sk-toggleable__content\"><pre>RandomForestClassifier(random_state=42)</pre></div></div></div></div></div></div></div>"
      ],
      "text/plain": [
       "Pipeline(steps=[('preprocessor',\n",
       "                 ColumnTransformer(transformers=[('num', StandardScaler(),\n",
       "                                                  ['CreditScore', 'Age',\n",
       "                                                   'Tenure', 'Balance',\n",
       "                                                   'NumOfProducts', 'HasCrCard',\n",
       "                                                   'IsActiveMember',\n",
       "                                                   'EstimatedSalary']),\n",
       "                                                 ('cat',\n",
       "                                                  OneHotEncoder(handle_unknown='ignore'),\n",
       "                                                  ['Geography', 'Gender'])])),\n",
       "                ('classifier', RandomForestClassifier(random_state=42))])"
      ]
     },
     "execution_count": 28,
     "metadata": {},
     "output_type": "execute_result"
    }
   ],
   "source": [
    "pipeline.fit(X, y)\n",
    "\n"
   ]
  },
  {
   "cell_type": "code",
   "execution_count": 29,
   "id": "4bd73bbc",
   "metadata": {
    "execution": {
     "iopub.execute_input": "2024-07-29T21:48:39.149181Z",
     "iopub.status.busy": "2024-07-29T21:48:39.148806Z",
     "iopub.status.idle": "2024-07-29T21:48:39.155265Z",
     "shell.execute_reply": "2024-07-29T21:48:39.154254Z"
    },
    "papermill": {
     "duration": 0.024472,
     "end_time": "2024-07-29T21:48:39.157677",
     "exception": false,
     "start_time": "2024-07-29T21:48:39.133205",
     "status": "completed"
    },
    "tags": []
   },
   "outputs": [],
   "source": [
    "# Prepare test data\n",
    "X_test = test.drop(features_to_drop, axis=1)\n",
    "\n"
   ]
  },
  {
   "cell_type": "code",
   "execution_count": 30,
   "id": "a30fe146",
   "metadata": {
    "execution": {
     "iopub.execute_input": "2024-07-29T21:48:39.188349Z",
     "iopub.status.busy": "2024-07-29T21:48:39.187952Z",
     "iopub.status.idle": "2024-07-29T21:48:39.371162Z",
     "shell.execute_reply": "2024-07-29T21:48:39.370019Z"
    },
    "papermill": {
     "duration": 0.201441,
     "end_time": "2024-07-29T21:48:39.373733",
     "exception": false,
     "start_time": "2024-07-29T21:48:39.172292",
     "status": "completed"
    },
    "tags": []
   },
   "outputs": [],
   "source": [
    "# Make predictions on test set\n",
    "y_pred_proba = pipeline.predict_proba(X_test)[:, 1]\n",
    "\n"
   ]
  },
  {
   "cell_type": "code",
   "execution_count": 31,
   "id": "7ea61ed2",
   "metadata": {
    "execution": {
     "iopub.execute_input": "2024-07-29T21:48:39.405011Z",
     "iopub.status.busy": "2024-07-29T21:48:39.404587Z",
     "iopub.status.idle": "2024-07-29T21:48:39.411662Z",
     "shell.execute_reply": "2024-07-29T21:48:39.410410Z"
    },
    "papermill": {
     "duration": 0.025194,
     "end_time": "2024-07-29T21:48:39.413962",
     "exception": false,
     "start_time": "2024-07-29T21:48:39.388768",
     "status": "completed"
    },
    "tags": []
   },
   "outputs": [
    {
     "data": {
      "text/plain": [
       "array([0.  , 0.12, 0.96, ..., 0.16, 0.29, 0.15])"
      ]
     },
     "execution_count": 31,
     "metadata": {},
     "output_type": "execute_result"
    }
   ],
   "source": [
    "y_pred_proba"
   ]
  },
  {
   "cell_type": "code",
   "execution_count": 32,
   "id": "def80a6d",
   "metadata": {
    "execution": {
     "iopub.execute_input": "2024-07-29T21:48:39.445445Z",
     "iopub.status.busy": "2024-07-29T21:48:39.445021Z",
     "iopub.status.idle": "2024-07-29T21:48:39.459581Z",
     "shell.execute_reply": "2024-07-29T21:48:39.458576Z"
    },
    "papermill": {
     "duration": 0.032849,
     "end_time": "2024-07-29T21:48:39.461791",
     "exception": false,
     "start_time": "2024-07-29T21:48:39.428942",
     "status": "completed"
    },
    "tags": []
   },
   "outputs": [
    {
     "data": {
      "text/html": [
       "<div>\n",
       "<style scoped>\n",
       "    .dataframe tbody tr th:only-of-type {\n",
       "        vertical-align: middle;\n",
       "    }\n",
       "\n",
       "    .dataframe tbody tr th {\n",
       "        vertical-align: top;\n",
       "    }\n",
       "\n",
       "    .dataframe thead th {\n",
       "        text-align: right;\n",
       "    }\n",
       "</style>\n",
       "<table border=\"1\" class=\"dataframe\">\n",
       "  <thead>\n",
       "    <tr style=\"text-align: right;\">\n",
       "      <th></th>\n",
       "      <th>Exited</th>\n",
       "    </tr>\n",
       "    <tr>\n",
       "      <th>id</th>\n",
       "      <th></th>\n",
       "    </tr>\n",
       "  </thead>\n",
       "  <tbody>\n",
       "    <tr>\n",
       "      <th>15000</th>\n",
       "      <td>0.00</td>\n",
       "    </tr>\n",
       "    <tr>\n",
       "      <th>15001</th>\n",
       "      <td>0.12</td>\n",
       "    </tr>\n",
       "    <tr>\n",
       "      <th>15002</th>\n",
       "      <td>0.96</td>\n",
       "    </tr>\n",
       "    <tr>\n",
       "      <th>15003</th>\n",
       "      <td>0.15</td>\n",
       "    </tr>\n",
       "    <tr>\n",
       "      <th>15004</th>\n",
       "      <td>0.12</td>\n",
       "    </tr>\n",
       "    <tr>\n",
       "      <th>...</th>\n",
       "      <td>...</td>\n",
       "    </tr>\n",
       "    <tr>\n",
       "      <th>24995</th>\n",
       "      <td>0.32</td>\n",
       "    </tr>\n",
       "    <tr>\n",
       "      <th>24996</th>\n",
       "      <td>0.00</td>\n",
       "    </tr>\n",
       "    <tr>\n",
       "      <th>24997</th>\n",
       "      <td>0.16</td>\n",
       "    </tr>\n",
       "    <tr>\n",
       "      <th>24998</th>\n",
       "      <td>0.29</td>\n",
       "    </tr>\n",
       "    <tr>\n",
       "      <th>24999</th>\n",
       "      <td>0.15</td>\n",
       "    </tr>\n",
       "  </tbody>\n",
       "</table>\n",
       "<p>10000 rows × 1 columns</p>\n",
       "</div>"
      ],
      "text/plain": [
       "       Exited\n",
       "id           \n",
       "15000    0.00\n",
       "15001    0.12\n",
       "15002    0.96\n",
       "15003    0.15\n",
       "15004    0.12\n",
       "...       ...\n",
       "24995    0.32\n",
       "24996    0.00\n",
       "24997    0.16\n",
       "24998    0.29\n",
       "24999    0.15\n",
       "\n",
       "[10000 rows x 1 columns]"
      ]
     },
     "execution_count": 32,
     "metadata": {},
     "output_type": "execute_result"
    }
   ],
   "source": [
    "output = pd.DataFrame(y_pred_proba, index=test.id, columns=['Exited'])\n",
    "output"
   ]
  },
  {
   "cell_type": "code",
   "execution_count": 33,
   "id": "02c001c4",
   "metadata": {
    "execution": {
     "iopub.execute_input": "2024-07-29T21:48:39.493683Z",
     "iopub.status.busy": "2024-07-29T21:48:39.492771Z",
     "iopub.status.idle": "2024-07-29T21:48:39.503542Z",
     "shell.execute_reply": "2024-07-29T21:48:39.502611Z"
    },
    "papermill": {
     "duration": 0.028924,
     "end_time": "2024-07-29T21:48:39.505683",
     "exception": false,
     "start_time": "2024-07-29T21:48:39.476759",
     "status": "completed"
    },
    "tags": []
   },
   "outputs": [
    {
     "data": {
      "text/html": [
       "<div>\n",
       "<style scoped>\n",
       "    .dataframe tbody tr th:only-of-type {\n",
       "        vertical-align: middle;\n",
       "    }\n",
       "\n",
       "    .dataframe tbody tr th {\n",
       "        vertical-align: top;\n",
       "    }\n",
       "\n",
       "    .dataframe thead th {\n",
       "        text-align: right;\n",
       "    }\n",
       "</style>\n",
       "<table border=\"1\" class=\"dataframe\">\n",
       "  <thead>\n",
       "    <tr style=\"text-align: right;\">\n",
       "      <th></th>\n",
       "      <th>Exited</th>\n",
       "    </tr>\n",
       "    <tr>\n",
       "      <th>id</th>\n",
       "      <th></th>\n",
       "    </tr>\n",
       "  </thead>\n",
       "  <tbody>\n",
       "    <tr>\n",
       "      <th>15000</th>\n",
       "      <td>0.00</td>\n",
       "    </tr>\n",
       "    <tr>\n",
       "      <th>15001</th>\n",
       "      <td>0.12</td>\n",
       "    </tr>\n",
       "    <tr>\n",
       "      <th>15002</th>\n",
       "      <td>0.96</td>\n",
       "    </tr>\n",
       "    <tr>\n",
       "      <th>15003</th>\n",
       "      <td>0.15</td>\n",
       "    </tr>\n",
       "    <tr>\n",
       "      <th>15004</th>\n",
       "      <td>0.12</td>\n",
       "    </tr>\n",
       "    <tr>\n",
       "      <th>...</th>\n",
       "      <td>...</td>\n",
       "    </tr>\n",
       "    <tr>\n",
       "      <th>24995</th>\n",
       "      <td>0.32</td>\n",
       "    </tr>\n",
       "    <tr>\n",
       "      <th>24996</th>\n",
       "      <td>0.00</td>\n",
       "    </tr>\n",
       "    <tr>\n",
       "      <th>24997</th>\n",
       "      <td>0.16</td>\n",
       "    </tr>\n",
       "    <tr>\n",
       "      <th>24998</th>\n",
       "      <td>0.29</td>\n",
       "    </tr>\n",
       "    <tr>\n",
       "      <th>24999</th>\n",
       "      <td>0.15</td>\n",
       "    </tr>\n",
       "  </tbody>\n",
       "</table>\n",
       "<p>10000 rows × 1 columns</p>\n",
       "</div>"
      ],
      "text/plain": [
       "       Exited\n",
       "id           \n",
       "15000    0.00\n",
       "15001    0.12\n",
       "15002    0.96\n",
       "15003    0.15\n",
       "15004    0.12\n",
       "...       ...\n",
       "24995    0.32\n",
       "24996    0.00\n",
       "24997    0.16\n",
       "24998    0.29\n",
       "24999    0.15\n",
       "\n",
       "[10000 rows x 1 columns]"
      ]
     },
     "execution_count": 33,
     "metadata": {},
     "output_type": "execute_result"
    }
   ],
   "source": [
    "output"
   ]
  },
  {
   "cell_type": "code",
   "execution_count": 34,
   "id": "83557a86",
   "metadata": {
    "execution": {
     "iopub.execute_input": "2024-07-29T21:48:39.537666Z",
     "iopub.status.busy": "2024-07-29T21:48:39.537250Z",
     "iopub.status.idle": "2024-07-29T21:48:39.544024Z",
     "shell.execute_reply": "2024-07-29T21:48:39.542969Z"
    },
    "papermill": {
     "duration": 0.02531,
     "end_time": "2024-07-29T21:48:39.546085",
     "exception": false,
     "start_time": "2024-07-29T21:48:39.520775",
     "status": "completed"
    },
    "tags": []
   },
   "outputs": [
    {
     "data": {
      "text/plain": [
       "Index(['Exited'], dtype='object')"
      ]
     },
     "execution_count": 34,
     "metadata": {},
     "output_type": "execute_result"
    }
   ],
   "source": [
    "output.columns"
   ]
  },
  {
   "cell_type": "code",
   "execution_count": 35,
   "id": "3014c391",
   "metadata": {
    "execution": {
     "iopub.execute_input": "2024-07-29T21:48:39.578504Z",
     "iopub.status.busy": "2024-07-29T21:48:39.578129Z",
     "iopub.status.idle": "2024-07-29T21:48:39.597853Z",
     "shell.execute_reply": "2024-07-29T21:48:39.596910Z"
    },
    "papermill": {
     "duration": 0.038973,
     "end_time": "2024-07-29T21:48:39.600434",
     "exception": false,
     "start_time": "2024-07-29T21:48:39.561461",
     "status": "completed"
    },
    "tags": []
   },
   "outputs": [],
   "source": [
    "output.to_csv('predictions.csv')"
   ]
  },
  {
   "cell_type": "code",
   "execution_count": 36,
   "id": "975994ec",
   "metadata": {
    "execution": {
     "iopub.execute_input": "2024-07-29T21:48:39.632604Z",
     "iopub.status.busy": "2024-07-29T21:48:39.632209Z",
     "iopub.status.idle": "2024-07-29T21:48:39.647218Z",
     "shell.execute_reply": "2024-07-29T21:48:39.646243Z"
    },
    "papermill": {
     "duration": 0.033614,
     "end_time": "2024-07-29T21:48:39.649365",
     "exception": false,
     "start_time": "2024-07-29T21:48:39.615751",
     "status": "completed"
    },
    "tags": []
   },
   "outputs": [
    {
     "data": {
      "text/html": [
       "<div>\n",
       "<style scoped>\n",
       "    .dataframe tbody tr th:only-of-type {\n",
       "        vertical-align: middle;\n",
       "    }\n",
       "\n",
       "    .dataframe tbody tr th {\n",
       "        vertical-align: top;\n",
       "    }\n",
       "\n",
       "    .dataframe thead th {\n",
       "        text-align: right;\n",
       "    }\n",
       "</style>\n",
       "<table border=\"1\" class=\"dataframe\">\n",
       "  <thead>\n",
       "    <tr style=\"text-align: right;\">\n",
       "      <th></th>\n",
       "      <th>id</th>\n",
       "      <th>Exited</th>\n",
       "    </tr>\n",
       "  </thead>\n",
       "  <tbody>\n",
       "    <tr>\n",
       "      <th>0</th>\n",
       "      <td>15000</td>\n",
       "      <td>0.00</td>\n",
       "    </tr>\n",
       "    <tr>\n",
       "      <th>1</th>\n",
       "      <td>15001</td>\n",
       "      <td>0.12</td>\n",
       "    </tr>\n",
       "    <tr>\n",
       "      <th>2</th>\n",
       "      <td>15002</td>\n",
       "      <td>0.96</td>\n",
       "    </tr>\n",
       "    <tr>\n",
       "      <th>3</th>\n",
       "      <td>15003</td>\n",
       "      <td>0.15</td>\n",
       "    </tr>\n",
       "    <tr>\n",
       "      <th>4</th>\n",
       "      <td>15004</td>\n",
       "      <td>0.12</td>\n",
       "    </tr>\n",
       "    <tr>\n",
       "      <th>...</th>\n",
       "      <td>...</td>\n",
       "      <td>...</td>\n",
       "    </tr>\n",
       "    <tr>\n",
       "      <th>9995</th>\n",
       "      <td>24995</td>\n",
       "      <td>0.32</td>\n",
       "    </tr>\n",
       "    <tr>\n",
       "      <th>9996</th>\n",
       "      <td>24996</td>\n",
       "      <td>0.00</td>\n",
       "    </tr>\n",
       "    <tr>\n",
       "      <th>9997</th>\n",
       "      <td>24997</td>\n",
       "      <td>0.16</td>\n",
       "    </tr>\n",
       "    <tr>\n",
       "      <th>9998</th>\n",
       "      <td>24998</td>\n",
       "      <td>0.29</td>\n",
       "    </tr>\n",
       "    <tr>\n",
       "      <th>9999</th>\n",
       "      <td>24999</td>\n",
       "      <td>0.15</td>\n",
       "    </tr>\n",
       "  </tbody>\n",
       "</table>\n",
       "<p>10000 rows × 2 columns</p>\n",
       "</div>"
      ],
      "text/plain": [
       "         id  Exited\n",
       "0     15000    0.00\n",
       "1     15001    0.12\n",
       "2     15002    0.96\n",
       "3     15003    0.15\n",
       "4     15004    0.12\n",
       "...     ...     ...\n",
       "9995  24995    0.32\n",
       "9996  24996    0.00\n",
       "9997  24997    0.16\n",
       "9998  24998    0.29\n",
       "9999  24999    0.15\n",
       "\n",
       "[10000 rows x 2 columns]"
      ]
     },
     "execution_count": 36,
     "metadata": {},
     "output_type": "execute_result"
    }
   ],
   "source": [
    "pd.read_csv('predictions.csv')"
   ]
  },
  {
   "cell_type": "code",
   "execution_count": 37,
   "id": "14fe3b0a",
   "metadata": {
    "execution": {
     "iopub.execute_input": "2024-07-29T21:48:39.682173Z",
     "iopub.status.busy": "2024-07-29T21:48:39.681236Z",
     "iopub.status.idle": "2024-07-29T21:48:39.701445Z",
     "shell.execute_reply": "2024-07-29T21:48:39.700445Z"
    },
    "papermill": {
     "duration": 0.039023,
     "end_time": "2024-07-29T21:48:39.703720",
     "exception": false,
     "start_time": "2024-07-29T21:48:39.664697",
     "status": "completed"
    },
    "tags": []
   },
   "outputs": [
    {
     "data": {
      "text/html": [
       "<div>\n",
       "<style scoped>\n",
       "    .dataframe tbody tr th:only-of-type {\n",
       "        vertical-align: middle;\n",
       "    }\n",
       "\n",
       "    .dataframe tbody tr th {\n",
       "        vertical-align: top;\n",
       "    }\n",
       "\n",
       "    .dataframe thead th {\n",
       "        text-align: right;\n",
       "    }\n",
       "</style>\n",
       "<table border=\"1\" class=\"dataframe\">\n",
       "  <thead>\n",
       "    <tr style=\"text-align: right;\">\n",
       "      <th></th>\n",
       "      <th>id</th>\n",
       "      <th>Exited</th>\n",
       "    </tr>\n",
       "  </thead>\n",
       "  <tbody>\n",
       "    <tr>\n",
       "      <th>0</th>\n",
       "      <td>15000</td>\n",
       "      <td>0.5</td>\n",
       "    </tr>\n",
       "    <tr>\n",
       "      <th>1</th>\n",
       "      <td>15001</td>\n",
       "      <td>0.5</td>\n",
       "    </tr>\n",
       "    <tr>\n",
       "      <th>2</th>\n",
       "      <td>15002</td>\n",
       "      <td>0.5</td>\n",
       "    </tr>\n",
       "    <tr>\n",
       "      <th>3</th>\n",
       "      <td>15003</td>\n",
       "      <td>0.5</td>\n",
       "    </tr>\n",
       "    <tr>\n",
       "      <th>4</th>\n",
       "      <td>15004</td>\n",
       "      <td>0.5</td>\n",
       "    </tr>\n",
       "    <tr>\n",
       "      <th>...</th>\n",
       "      <td>...</td>\n",
       "      <td>...</td>\n",
       "    </tr>\n",
       "    <tr>\n",
       "      <th>9995</th>\n",
       "      <td>24995</td>\n",
       "      <td>0.5</td>\n",
       "    </tr>\n",
       "    <tr>\n",
       "      <th>9996</th>\n",
       "      <td>24996</td>\n",
       "      <td>0.5</td>\n",
       "    </tr>\n",
       "    <tr>\n",
       "      <th>9997</th>\n",
       "      <td>24997</td>\n",
       "      <td>0.5</td>\n",
       "    </tr>\n",
       "    <tr>\n",
       "      <th>9998</th>\n",
       "      <td>24998</td>\n",
       "      <td>0.5</td>\n",
       "    </tr>\n",
       "    <tr>\n",
       "      <th>9999</th>\n",
       "      <td>24999</td>\n",
       "      <td>0.5</td>\n",
       "    </tr>\n",
       "  </tbody>\n",
       "</table>\n",
       "<p>10000 rows × 2 columns</p>\n",
       "</div>"
      ],
      "text/plain": [
       "         id  Exited\n",
       "0     15000     0.5\n",
       "1     15001     0.5\n",
       "2     15002     0.5\n",
       "3     15003     0.5\n",
       "4     15004     0.5\n",
       "...     ...     ...\n",
       "9995  24995     0.5\n",
       "9996  24996     0.5\n",
       "9997  24997     0.5\n",
       "9998  24998     0.5\n",
       "9999  24999     0.5\n",
       "\n",
       "[10000 rows x 2 columns]"
      ]
     },
     "execution_count": 37,
     "metadata": {},
     "output_type": "execute_result"
    }
   ],
   "source": [
    "pd.read_csv('/kaggle/input/classify-customers-to-predict-bank-customer-churn/sample_submission.csv')"
   ]
  },
  {
   "cell_type": "code",
   "execution_count": null,
   "id": "6a847d00",
   "metadata": {
    "papermill": {
     "duration": 0.015522,
     "end_time": "2024-07-29T21:48:39.735047",
     "exception": false,
     "start_time": "2024-07-29T21:48:39.719525",
     "status": "completed"
    },
    "tags": []
   },
   "outputs": [],
   "source": []
  }
 ],
 "metadata": {
  "kaggle": {
   "accelerator": "none",
   "dataSources": [
    {
     "databundleVersionId": 8437243,
     "sourceId": 77406,
     "sourceType": "competition"
    }
   ],
   "dockerImageVersionId": 30746,
   "isGpuEnabled": false,
   "isInternetEnabled": true,
   "language": "python",
   "sourceType": "notebook"
  },
  "kernelspec": {
   "display_name": "Python 3",
   "language": "python",
   "name": "python3"
  },
  "language_info": {
   "codemirror_mode": {
    "name": "ipython",
    "version": 3
   },
   "file_extension": ".py",
   "mimetype": "text/x-python",
   "name": "python",
   "nbconvert_exporter": "python",
   "pygments_lexer": "ipython3",
   "version": "3.10.13"
  },
  "papermill": {
   "default_parameters": {},
   "duration": 114.052442,
   "end_time": "2024-07-29T21:48:42.371742",
   "environment_variables": {},
   "exception": null,
   "input_path": "__notebook__.ipynb",
   "output_path": "__notebook__.ipynb",
   "parameters": {},
   "start_time": "2024-07-29T21:46:48.319300",
   "version": "2.5.0"
  }
 },
 "nbformat": 4,
 "nbformat_minor": 5
}
